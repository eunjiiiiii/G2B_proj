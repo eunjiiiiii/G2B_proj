{
 "cells": [
  {
   "cell_type": "markdown",
   "metadata": {},
   "source": [
    "## 필요한 라이브러리 로드"
   ]
  },
  {
   "cell_type": "code",
   "execution_count": 2,
   "metadata": {},
   "outputs": [],
   "source": [
    "import pandas as pd\n",
    "import numpy as np\n",
    "import lightgbm as lgb\n",
    "from sklearn.model_selection import train_test_split\n",
    "from sklearn.metrics import r2_score\n",
    "import xgboost as xgb\n",
    "from xgboost.sklearn import XGBRegressor\n",
    "from sklearn.ensemble import RandomForestRegressor\n",
    "from sklearn.metrics import mean_squared_error"
   ]
  },
  {
   "cell_type": "code",
   "execution_count": 3,
   "metadata": {},
   "outputs": [],
   "source": [
    "pd.options.display.float_format = '{:.5f}'.format"
   ]
  },
  {
   "cell_type": "markdown",
   "metadata": {},
   "source": [
    "금액과 관련된 변수를 지수형태로 나타나지 않게 위한 작업을 시행한다."
   ]
  },
  {
   "cell_type": "markdown",
   "metadata": {},
   "source": [
    "## csv파일 데이터 로드 및 변수 선택"
   ]
  },
  {
   "cell_type": "code",
   "execution_count": 4,
   "metadata": {},
   "outputs": [
    {
     "name": "stderr",
     "output_type": "stream",
     "text": [
      "C:\\Users\\moon_\\anaconda3\\lib\\site-packages\\IPython\\core\\interactiveshell.py:3146: DtypeWarning: Columns (36) have mixed types.Specify dtype option on import or set low_memory=False.\n",
      "  has_raised = await self.run_ast_nodes(code_ast.body, cell_name,\n"
     ]
    }
   ],
   "source": [
    "df_gg = pd.read_csv(r'C:\\Users\\moon_\\OneDrive - konkuk.ac.kr\\바탕 화면\\조달청 공모전\\data\\FILE/물품입찰공고.csv') #물품입찰공고\n",
    "df_cf = pd.read_csv(r'C:\\Users\\moon_\\OneDrive - konkuk.ac.kr\\바탕 화면\\조달청 공모전\\data\\FILE/물품입찰분류별진행내역.csv') #물품입찰분류별진행내역\n",
    "df_tc1 = pd.read_csv(r'C:\\Users\\moon_\\OneDrive - konkuk.ac.kr\\바탕 화면\\조달청 공모전\\data\\FILE/투찰업체1.csv') #투찰업체1\n",
    "df_tc2 = pd.read_csv(r'C:\\Users\\moon_\\OneDrive - konkuk.ac.kr\\바탕 화면\\조달청 공모전\\data\\FILE/투찰업체2.csv') #투찰업체2\n",
    "df_tc3 = pd.read_csv(r'C:\\Users\\moon_\\OneDrive - konkuk.ac.kr\\바탕 화면\\조달청 공모전\\data\\FILE/투찰업체3.csv') #투찰업체3\n",
    "df_tc4 = pd.read_csv(r'C:\\Users\\moon_\\OneDrive - konkuk.ac.kr\\바탕 화면\\조달청 공모전\\data\\FILE/투찰업체4.csv') #투찰업체4"
   ]
  },
  {
   "cell_type": "code",
   "execution_count": 5,
   "metadata": {},
   "outputs": [],
   "source": [
    "df_tc = pd.concat([df_tc1, df_tc2, df_tc3, df_tc4])"
   ]
  },
  {
   "cell_type": "markdown",
   "metadata": {},
   "source": [
    "물품의 경우, 투찰 업체의 내역이 상당히 많으므로 4번을 나누어 다운로드 하였으므로 하나로 합치는 과정을 가짐."
   ]
  },
  {
   "cell_type": "code",
   "execution_count": 6,
   "metadata": {
    "scrolled": true
   },
   "outputs": [],
   "source": [
    "df_gg_features = df_gg[['입찰공고번호', '공동도급협정서접수방식']]\n",
    "\n",
    "df_cf_features = df_cf[['입찰공고번호', '합계수량', '낙찰자결정여부', '낙찰업체투찰률', '낙찰업체투찰금액', '낙찰자결정적용법규']]\n",
    "\n",
    "df_tc_features = df_tc[['등록유형', '조달구분', '입찰공고번호', '품명내용', '긴급공고여부', '추정가격', '배정예산',\n",
    "                        '입찰방식', '기초금액', '예정가격', '낙찰여부', '낙찰자결정방법', '낙찰하한율', '참가수']]"
   ]
  },
  {
   "cell_type": "markdown",
   "metadata": {},
   "source": [
    "모델링 전 전처리 과정에서 실제로 null값을 가진 값을 drop, data의 value 대체 등 조건을 걸어 전처리를 진행한 변수들만 선택하였다."
   ]
  },
  {
   "cell_type": "code",
   "execution_count": 7,
   "metadata": {},
   "outputs": [],
   "source": [
    "df_2 = pd.merge(df_tc_features, df_cf_features, how='inner', on='입찰공고번호')"
   ]
  },
  {
   "cell_type": "code",
   "execution_count": 8,
   "metadata": {},
   "outputs": [],
   "source": [
    "df = pd.merge(df_2, df_gg_features, how='inner', on='입찰공고번호')"
   ]
  },
  {
   "cell_type": "markdown",
   "metadata": {},
   "source": [
    "merge를 통하여 세 가지 csv파일에서 변수를 선택한 후 입찰공고번호를 기준으로 inner join하여 하나의 데이터프레임으로 합병한다."
   ]
  },
  {
   "cell_type": "code",
   "execution_count": 9,
   "metadata": {},
   "outputs": [
    {
     "name": "stdout",
     "output_type": "stream",
     "text": [
      "<class 'pandas.core.frame.DataFrame'>\n",
      "Int64Index: 303597 entries, 0 to 303596\n",
      "Data columns (total 20 columns):\n",
      " #   Column       Non-Null Count   Dtype  \n",
      "---  ------       --------------   -----  \n",
      " 0   등록유형         303597 non-null  object \n",
      " 1   조달구분         303597 non-null  object \n",
      " 2   입찰공고번호       303597 non-null  int64  \n",
      " 3   품명내용         303596 non-null  object \n",
      " 4   긴급공고여부       289037 non-null  object \n",
      " 5   추정가격         302274 non-null  float64\n",
      " 6   배정예산         301334 non-null  float64\n",
      " 7   입찰방식         303597 non-null  object \n",
      " 8   기초금액         182167 non-null  float64\n",
      " 9   예정가격         302376 non-null  float64\n",
      " 10  낙찰여부         303597 non-null  object \n",
      " 11  낙찰자결정방법      302571 non-null  object \n",
      " 12  낙찰하한율        182781 non-null  float64\n",
      " 13  참가수          303597 non-null  int64  \n",
      " 14  합계수량         303597 non-null  float64\n",
      " 15  낙찰자결정여부      303597 non-null  object \n",
      " 16  낙찰업체투찰률      246724 non-null  float64\n",
      " 17  낙찰업체투찰금액     246724 non-null  float64\n",
      " 18  낙찰자결정적용법규    271019 non-null  object \n",
      " 19  공동도급협정서접수방식  303499 non-null  object \n",
      "dtypes: float64(8), int64(2), object(10)\n",
      "memory usage: 48.6+ MB\n"
     ]
    }
   ],
   "source": [
    "df.info()"
   ]
  },
  {
   "cell_type": "markdown",
   "metadata": {},
   "source": [
    "## data 전처리"
   ]
  },
  {
   "cell_type": "code",
   "execution_count": 10,
   "metadata": {},
   "outputs": [],
   "source": [
    "df = df[df['등록유형'] == '나라장터(G2B)']\n",
    "df = df.drop(['등록유형'], axis=1)"
   ]
  },
  {
   "cell_type": "markdown",
   "metadata": {},
   "source": [
    "등록유형을 나라장터로 한정하고, 등록유형을 drop한다."
   ]
  },
  {
   "cell_type": "code",
   "execution_count": 11,
   "metadata": {},
   "outputs": [],
   "source": [
    "df = df[df['낙찰여부'] == 'Y']\n",
    "df = df.drop(['낙찰여부'], axis=1)"
   ]
  },
  {
   "cell_type": "markdown",
   "metadata": {},
   "source": [
    "유찰이 된 data는 가격 예측에 도움이 되지 않는다. 낙찰이 이루어진 이전 입찰 data를 통해 예측을 진행해야 하므로, 낙찰이 된 data로 한정한다."
   ]
  },
  {
   "cell_type": "code",
   "execution_count": 12,
   "metadata": {},
   "outputs": [],
   "source": [
    "df = df.dropna(subset=['품명내용'])\n",
    "df = df.dropna(subset=['긴급공고여부'])\n",
    "df = df.dropna(subset=['추정가격'])\n",
    "df = df.dropna(subset=['배정예산'])"
   ]
  },
  {
   "cell_type": "markdown",
   "metadata": {},
   "source": [
    "품명내용, 긴급공고여부, 추정가격, 배정예산이 na인 값은 대체가 불가능하므로 drop한다."
   ]
  },
  {
   "cell_type": "code",
   "execution_count": 13,
   "metadata": {
    "scrolled": true
   },
   "outputs": [
    {
     "data": {
      "text/html": [
       "<div>\n",
       "<style scoped>\n",
       "    .dataframe tbody tr th:only-of-type {\n",
       "        vertical-align: middle;\n",
       "    }\n",
       "\n",
       "    .dataframe tbody tr th {\n",
       "        vertical-align: top;\n",
       "    }\n",
       "\n",
       "    .dataframe thead th {\n",
       "        text-align: right;\n",
       "    }\n",
       "</style>\n",
       "<table border=\"1\" class=\"dataframe\">\n",
       "  <thead>\n",
       "    <tr style=\"text-align: right;\">\n",
       "      <th></th>\n",
       "      <th>조달구분</th>\n",
       "      <th>입찰공고번호</th>\n",
       "      <th>품명내용</th>\n",
       "      <th>긴급공고여부</th>\n",
       "      <th>추정가격</th>\n",
       "      <th>배정예산</th>\n",
       "      <th>기초금액</th>\n",
       "      <th>예정가격</th>\n",
       "      <th>낙찰자결정방법</th>\n",
       "      <th>낙찰하한율</th>\n",
       "      <th>참가수</th>\n",
       "      <th>합계수량</th>\n",
       "      <th>낙찰자결정여부</th>\n",
       "      <th>낙찰업체투찰률</th>\n",
       "      <th>낙찰업체투찰금액</th>\n",
       "      <th>낙찰자결정적용법규</th>\n",
       "      <th>공동도급협정서접수방식</th>\n",
       "    </tr>\n",
       "  </thead>\n",
       "  <tbody>\n",
       "    <tr>\n",
       "      <th>0</th>\n",
       "      <td>자체조달</td>\n",
       "      <td>20211020431</td>\n",
       "      <td>교육용또는직업용도서[55101509]</td>\n",
       "      <td>N</td>\n",
       "      <td>17389840.00000</td>\n",
       "      <td>17389840.00000</td>\n",
       "      <td>17389840.00000</td>\n",
       "      <td>17491500.00000</td>\n",
       "      <td>제한적최저가(낙찰하한율)</td>\n",
       "      <td>90.00000</td>\n",
       "      <td>9</td>\n",
       "      <td>1336.00000</td>\n",
       "      <td>Y</td>\n",
       "      <td>90.08200</td>\n",
       "      <td>15756760.00000</td>\n",
       "      <td>지방계약법</td>\n",
       "      <td>일반(중앙)</td>\n",
       "    </tr>\n",
       "    <tr>\n",
       "      <th>6</th>\n",
       "      <td>자체조달</td>\n",
       "      <td>20211027248</td>\n",
       "      <td>구내교환장비[43222805]</td>\n",
       "      <td>Y</td>\n",
       "      <td>82150000.00000</td>\n",
       "      <td>90365000.00000</td>\n",
       "      <td>90365000.00000</td>\n",
       "      <td>89554000.00000</td>\n",
       "      <td>적격심사(추정가격 고시금액미만)</td>\n",
       "      <td>84.24500</td>\n",
       "      <td>26</td>\n",
       "      <td>1.00000</td>\n",
       "      <td>Y</td>\n",
       "      <td>84.37700</td>\n",
       "      <td>75563000.00000</td>\n",
       "      <td>지방계약법</td>\n",
       "      <td>일반(중앙)</td>\n",
       "    </tr>\n",
       "    <tr>\n",
       "      <th>7</th>\n",
       "      <td>자체조달</td>\n",
       "      <td>20211028370</td>\n",
       "      <td>실험용플라스크[41121804]</td>\n",
       "      <td>N</td>\n",
       "      <td>48992800.00000</td>\n",
       "      <td>53892080.00000</td>\n",
       "      <td>53892080.00000</td>\n",
       "      <td>53986325.00000</td>\n",
       "      <td>적격심사(추정가격 고시금액미만 제조입찰,고시금액미만 구매입찰)</td>\n",
       "      <td>84.24500</td>\n",
       "      <td>8</td>\n",
       "      <td>1.00000</td>\n",
       "      <td>Y</td>\n",
       "      <td>92.52500</td>\n",
       "      <td>49950890.00000</td>\n",
       "      <td>국가계약법</td>\n",
       "      <td>일반(중앙)</td>\n",
       "    </tr>\n",
       "  </tbody>\n",
       "</table>\n",
       "</div>"
      ],
      "text/plain": [
       "   조달구분       입찰공고번호                  품명내용 긴급공고여부           추정가격  \\\n",
       "0  자체조달  20211020431  교육용또는직업용도서[55101509]      N 17389840.00000   \n",
       "6  자체조달  20211027248      구내교환장비[43222805]      Y 82150000.00000   \n",
       "7  자체조달  20211028370     실험용플라스크[41121804]      N 48992800.00000   \n",
       "\n",
       "            배정예산           기초금액           예정가격  \\\n",
       "0 17389840.00000 17389840.00000 17491500.00000   \n",
       "6 90365000.00000 90365000.00000 89554000.00000   \n",
       "7 53892080.00000 53892080.00000 53986325.00000   \n",
       "\n",
       "                              낙찰자결정방법    낙찰하한율  참가수       합계수량 낙찰자결정여부  \\\n",
       "0                       제한적최저가(낙찰하한율) 90.00000    9 1336.00000       Y   \n",
       "6                   적격심사(추정가격 고시금액미만) 84.24500   26    1.00000       Y   \n",
       "7  적격심사(추정가격 고시금액미만 제조입찰,고시금액미만 구매입찰) 84.24500    8    1.00000       Y   \n",
       "\n",
       "   낙찰업체투찰률       낙찰업체투찰금액 낙찰자결정적용법규 공동도급협정서접수방식  \n",
       "0 90.08200 15756760.00000     지방계약법      일반(중앙)  \n",
       "6 84.37700 75563000.00000     지방계약법      일반(중앙)  \n",
       "7 92.52500 49950890.00000     국가계약법      일반(중앙)  "
      ]
     },
     "execution_count": 13,
     "metadata": {},
     "output_type": "execute_result"
    }
   ],
   "source": [
    "df = df[df['입찰방식'].str.contains('전자')]\n",
    "df = df.drop(['입찰방식'], axis=1)\n",
    "\n",
    "df.head(3)"
   ]
  },
  {
   "cell_type": "markdown",
   "metadata": {},
   "source": [
    "전자입찰과 관련된 입찰방식으로 추린다."
   ]
  },
  {
   "cell_type": "code",
   "execution_count": 14,
   "metadata": {},
   "outputs": [
    {
     "data": {
      "text/plain": [
       "105666"
      ]
     },
     "execution_count": 14,
     "metadata": {},
     "output_type": "execute_result"
    }
   ],
   "source": [
    "df['낙찰하한율'].isna().sum() #낙찰하한율 대체 전"
   ]
  },
  {
   "cell_type": "markdown",
   "metadata": {},
   "source": [
    "null값의 대체가 가능한 낙찰하한율은 대체한다."
   ]
  },
  {
   "cell_type": "code",
   "execution_count": 15,
   "metadata": {},
   "outputs": [
    {
     "data": {
      "text/html": [
       "<div>\n",
       "<style scoped>\n",
       "    .dataframe tbody tr th:only-of-type {\n",
       "        vertical-align: middle;\n",
       "    }\n",
       "\n",
       "    .dataframe tbody tr th {\n",
       "        vertical-align: top;\n",
       "    }\n",
       "\n",
       "    .dataframe thead th {\n",
       "        text-align: right;\n",
       "    }\n",
       "</style>\n",
       "<table border=\"1\" class=\"dataframe\">\n",
       "  <thead>\n",
       "    <tr style=\"text-align: right;\">\n",
       "      <th></th>\n",
       "      <th>낙찰자결정방법</th>\n",
       "      <th>낙찰하한율</th>\n",
       "    </tr>\n",
       "  </thead>\n",
       "  <tbody>\n",
       "    <tr>\n",
       "      <th>135</th>\n",
       "      <td>NaN</td>\n",
       "      <td>87.94500</td>\n",
       "    </tr>\n",
       "    <tr>\n",
       "      <th>142</th>\n",
       "      <td>NaN</td>\n",
       "      <td>87.94500</td>\n",
       "    </tr>\n",
       "    <tr>\n",
       "      <th>332</th>\n",
       "      <td>NaN</td>\n",
       "      <td>88.00000</td>\n",
       "    </tr>\n",
       "    <tr>\n",
       "      <th>546</th>\n",
       "      <td>NaN</td>\n",
       "      <td>87.99500</td>\n",
       "    </tr>\n",
       "    <tr>\n",
       "      <th>799</th>\n",
       "      <td>NaN</td>\n",
       "      <td>87.99500</td>\n",
       "    </tr>\n",
       "    <tr>\n",
       "      <th>...</th>\n",
       "      <td>...</td>\n",
       "      <td>...</td>\n",
       "    </tr>\n",
       "    <tr>\n",
       "      <th>301754</th>\n",
       "      <td>NaN</td>\n",
       "      <td>87.99500</td>\n",
       "    </tr>\n",
       "    <tr>\n",
       "      <th>302140</th>\n",
       "      <td>NaN</td>\n",
       "      <td>88.00000</td>\n",
       "    </tr>\n",
       "    <tr>\n",
       "      <th>302203</th>\n",
       "      <td>NaN</td>\n",
       "      <td>88.00000</td>\n",
       "    </tr>\n",
       "    <tr>\n",
       "      <th>302394</th>\n",
       "      <td>NaN</td>\n",
       "      <td>88.00000</td>\n",
       "    </tr>\n",
       "    <tr>\n",
       "      <th>303039</th>\n",
       "      <td>NaN</td>\n",
       "      <td>87.99500</td>\n",
       "    </tr>\n",
       "  </tbody>\n",
       "</table>\n",
       "<p>140 rows × 2 columns</p>\n",
       "</div>"
      ],
      "text/plain": [
       "       낙찰자결정방법    낙찰하한율\n",
       "135        NaN 87.94500\n",
       "142        NaN 87.94500\n",
       "332        NaN 88.00000\n",
       "546        NaN 87.99500\n",
       "799        NaN 87.99500\n",
       "...        ...      ...\n",
       "301754     NaN 87.99500\n",
       "302140     NaN 88.00000\n",
       "302203     NaN 88.00000\n",
       "302394     NaN 88.00000\n",
       "303039     NaN 87.99500\n",
       "\n",
       "[140 rows x 2 columns]"
      ]
     },
     "execution_count": 15,
     "metadata": {},
     "output_type": "execute_result"
    }
   ],
   "source": [
    "df[(df['낙찰자결정방법'].isna()==True) & (df['낙찰하한율'].isna()==False)][['낙찰자결정방법', '낙찰하한율']]"
   ]
  },
  {
   "cell_type": "markdown",
   "metadata": {},
   "source": [
    "낙찰자결정방법을 통해 낙찰하한율을 대체할 예정이다. 그러나 낙찰자결정방법이 결측치인 데이터를 모두 제거하면, 낙찰자결정방법은 결측이지만 낙찰하한율은 결측이 아닌 데이터까지 제거하게 되므로 낙찰하한율이 있는 경우에는 낙찰자결정방법을 drop하지 않는다."
   ]
  },
  {
   "cell_type": "code",
   "execution_count": 16,
   "metadata": {},
   "outputs": [],
   "source": [
    "df['낙찰자결정방법'].fillna('알수없음', inplace=True)"
   ]
  },
  {
   "cell_type": "code",
   "execution_count": 17,
   "metadata": {
    "scrolled": true
   },
   "outputs": [],
   "source": [
    "df.loc[df['낙찰자결정방법'].str.contains('10억이상'), '낙찰하한율'] = 80.495\n",
    "df.loc[df['낙찰자결정방법'].str.contains('10억원이상'), '낙찰하한율'] = 80.495\n",
    "\n",
    "df.loc[df['낙찰자결정방법'].str.contains('10억원미만'), '낙찰하한율'] = 80.495\n",
    "df.loc[df['낙찰자결정방법'].str.contains('10억미만'), '낙찰하한율'] = 80.495\n",
    "\n",
    "df.loc[df['낙찰자결정방법'].str.contains('고시금액미만'), '낙찰하한율'] = 84.245\n",
    "df.loc[df['낙찰자결정방법'].str.contains('고시금액 미만'), '낙찰하한율'] = 84.245\n",
    "\n",
    "df.loc[df['낙찰자결정방법'].str.contains('간행물'), '낙찰하한율'] = 89.995"
   ]
  },
  {
   "cell_type": "markdown",
   "metadata": {},
   "source": [
    "낙찰하한율을 대체할 수 있는 정보가 한정적이여서 많이 대체하지는 못했지만, 정보가 업데이트 된다면 모델을 업데이트 할 필요가 있어보임."
   ]
  },
  {
   "cell_type": "code",
   "execution_count": 18,
   "metadata": {},
   "outputs": [
    {
     "data": {
      "text/plain": [
       "105265"
      ]
     },
     "execution_count": 18,
     "metadata": {},
     "output_type": "execute_result"
    }
   ],
   "source": [
    "df['낙찰하한율'].isna().sum() #낙찰하한율 대체 후"
   ]
  },
  {
   "cell_type": "markdown",
   "metadata": {},
   "source": [
    "낙찰하한율의 null값의 개수가 감소하였음."
   ]
  },
  {
   "cell_type": "code",
   "execution_count": 19,
   "metadata": {},
   "outputs": [],
   "source": [
    "df = df.dropna(subset=['낙찰하한율'])"
   ]
  },
  {
   "cell_type": "markdown",
   "metadata": {},
   "source": [
    "낙찰하한율의 나머지 null값은 처리가 불가능하므로 drop한다."
   ]
  },
  {
   "cell_type": "code",
   "execution_count": 20,
   "metadata": {},
   "outputs": [],
   "source": [
    "df = df.dropna(subset=['기초금액'])\n",
    "df = df.dropna(subset=['낙찰업체투찰금액'])"
   ]
  },
  {
   "cell_type": "markdown",
   "metadata": {},
   "source": [
    "금액과 관련된 변수는 대체 시 data상의 오류가 발생할 가능성이 있으므로 null값을 drop한다."
   ]
  },
  {
   "cell_type": "markdown",
   "metadata": {},
   "source": [
    "금액과 관련된 변수는 null값이 없어야 하며 대체도 불가능하다."
   ]
  },
  {
   "cell_type": "code",
   "execution_count": 21,
   "metadata": {
    "scrolled": true
   },
   "outputs": [
    {
     "data": {
      "text/html": [
       "<div>\n",
       "<style scoped>\n",
       "    .dataframe tbody tr th:only-of-type {\n",
       "        vertical-align: middle;\n",
       "    }\n",
       "\n",
       "    .dataframe tbody tr th {\n",
       "        vertical-align: top;\n",
       "    }\n",
       "\n",
       "    .dataframe thead th {\n",
       "        text-align: right;\n",
       "    }\n",
       "</style>\n",
       "<table border=\"1\" class=\"dataframe\">\n",
       "  <thead>\n",
       "    <tr style=\"text-align: right;\">\n",
       "      <th></th>\n",
       "      <th>조달구분</th>\n",
       "      <th>입찰공고번호</th>\n",
       "      <th>품명내용</th>\n",
       "      <th>긴급공고여부</th>\n",
       "      <th>추정가격</th>\n",
       "      <th>배정예산</th>\n",
       "      <th>기초금액</th>\n",
       "      <th>예정가격</th>\n",
       "      <th>낙찰자결정방법</th>\n",
       "      <th>낙찰하한율</th>\n",
       "      <th>참가수</th>\n",
       "      <th>합계수량</th>\n",
       "      <th>낙찰자결정여부</th>\n",
       "      <th>낙찰업체투찰률</th>\n",
       "      <th>낙찰업체투찰금액</th>\n",
       "      <th>낙찰자결정적용법규</th>\n",
       "      <th>공동도급협정서접수방식</th>\n",
       "    </tr>\n",
       "  </thead>\n",
       "  <tbody>\n",
       "    <tr>\n",
       "      <th>0</th>\n",
       "      <td>자체조달</td>\n",
       "      <td>20211020431</td>\n",
       "      <td>교육용또는직업용도서[55101509]</td>\n",
       "      <td>N</td>\n",
       "      <td>17389840.00000</td>\n",
       "      <td>17389840.00000</td>\n",
       "      <td>17389840.00000</td>\n",
       "      <td>17491500.00000</td>\n",
       "      <td>제한적최저가(낙찰하한율)</td>\n",
       "      <td>90.00000</td>\n",
       "      <td>9</td>\n",
       "      <td>1336.00000</td>\n",
       "      <td>Y</td>\n",
       "      <td>90.08200</td>\n",
       "      <td>15756760.00000</td>\n",
       "      <td>지방계약법</td>\n",
       "      <td>일반(중앙)</td>\n",
       "    </tr>\n",
       "    <tr>\n",
       "      <th>6</th>\n",
       "      <td>자체조달</td>\n",
       "      <td>20211027248</td>\n",
       "      <td>구내교환장비[43222805]</td>\n",
       "      <td>Y</td>\n",
       "      <td>82150000.00000</td>\n",
       "      <td>90365000.00000</td>\n",
       "      <td>90365000.00000</td>\n",
       "      <td>89554000.00000</td>\n",
       "      <td>적격심사(추정가격 고시금액미만)</td>\n",
       "      <td>84.24500</td>\n",
       "      <td>26</td>\n",
       "      <td>1.00000</td>\n",
       "      <td>Y</td>\n",
       "      <td>84.37700</td>\n",
       "      <td>75563000.00000</td>\n",
       "      <td>지방계약법</td>\n",
       "      <td>일반(중앙)</td>\n",
       "    </tr>\n",
       "    <tr>\n",
       "      <th>7</th>\n",
       "      <td>자체조달</td>\n",
       "      <td>20211028370</td>\n",
       "      <td>실험용플라스크[41121804]</td>\n",
       "      <td>N</td>\n",
       "      <td>48992800.00000</td>\n",
       "      <td>53892080.00000</td>\n",
       "      <td>53892080.00000</td>\n",
       "      <td>53986325.00000</td>\n",
       "      <td>적격심사(추정가격 고시금액미만 제조입찰,고시금액미만 구매입찰)</td>\n",
       "      <td>84.24500</td>\n",
       "      <td>8</td>\n",
       "      <td>1.00000</td>\n",
       "      <td>Y</td>\n",
       "      <td>92.52500</td>\n",
       "      <td>49950890.00000</td>\n",
       "      <td>국가계약법</td>\n",
       "      <td>일반(중앙)</td>\n",
       "    </tr>\n",
       "  </tbody>\n",
       "</table>\n",
       "</div>"
      ],
      "text/plain": [
       "   조달구분       입찰공고번호                  품명내용 긴급공고여부           추정가격  \\\n",
       "0  자체조달  20211020431  교육용또는직업용도서[55101509]      N 17389840.00000   \n",
       "6  자체조달  20211027248      구내교환장비[43222805]      Y 82150000.00000   \n",
       "7  자체조달  20211028370     실험용플라스크[41121804]      N 48992800.00000   \n",
       "\n",
       "            배정예산           기초금액           예정가격  \\\n",
       "0 17389840.00000 17389840.00000 17491500.00000   \n",
       "6 90365000.00000 90365000.00000 89554000.00000   \n",
       "7 53892080.00000 53892080.00000 53986325.00000   \n",
       "\n",
       "                              낙찰자결정방법    낙찰하한율  참가수       합계수량 낙찰자결정여부  \\\n",
       "0                       제한적최저가(낙찰하한율) 90.00000    9 1336.00000       Y   \n",
       "6                   적격심사(추정가격 고시금액미만) 84.24500   26    1.00000       Y   \n",
       "7  적격심사(추정가격 고시금액미만 제조입찰,고시금액미만 구매입찰) 84.24500    8    1.00000       Y   \n",
       "\n",
       "   낙찰업체투찰률       낙찰업체투찰금액 낙찰자결정적용법규 공동도급협정서접수방식  \n",
       "0 90.08200 15756760.00000     지방계약법      일반(중앙)  \n",
       "6 84.37700 75563000.00000     지방계약법      일반(중앙)  \n",
       "7 92.52500 49950890.00000     국가계약법      일반(중앙)  "
      ]
     },
     "execution_count": 21,
     "metadata": {},
     "output_type": "execute_result"
    }
   ],
   "source": [
    "df = df.dropna(subset=['합계수량'])\n",
    "df = df.dropna(subset=['낙찰자결정적용법규'])\n",
    "df = df.dropna(subset=['공동도급협정서접수방식'])\n",
    "df = df.dropna(subset=['참가수'])\n",
    "df = df[df['조달구분']=='자체조달']\n",
    "\n",
    "df.head(3)"
   ]
  },
  {
   "cell_type": "markdown",
   "metadata": {},
   "source": [
    "합계수량과 낙찰자 결정 적용 법규, 공동도급 협정서 접수 방식, 참가수를 다른 값으로 대체한다면 data상의 오류가 발생할 가능성이 있다. 따라서 drop하고, EDA 당시 중앙조달의 data 수가 매우 적어 가격 예측에 도움이 되지 못할 것 같아 자체조달로 한정하였으므로 자체조달로 한정한다."
   ]
  },
  {
   "cell_type": "code",
   "execution_count": 22,
   "metadata": {},
   "outputs": [],
   "source": [
    "df = df[df['낙찰업체투찰금액'] != 0]"
   ]
  },
  {
   "cell_type": "markdown",
   "metadata": {},
   "source": [
    "낙찰업체투찰금액이 0원인 값은 Null로 간주하여 0원을 제거한다."
   ]
  },
  {
   "cell_type": "code",
   "execution_count": 23,
   "metadata": {},
   "outputs": [],
   "source": [
    "Q1 = np.percentile(df['낙찰업체투찰금액'].values, 25)\n",
    "Q3 = np.percentile(df['낙찰업체투찰금액'].values, 75)\n",
    "\n",
    "IQR = Q3-Q1\n",
    "\n",
    "df = df[(df['낙찰업체투찰금액'] >= (Q1 - (1.5*IQR))) & (df['낙찰업체투찰금액'] <= (Q3 + (1.5*IQR)))]"
   ]
  },
  {
   "cell_type": "markdown",
   "metadata": {},
   "source": [
    "낙찰업체투찰금액의 편차가 매우 크므로, 이상치를 제거한다."
   ]
  },
  {
   "cell_type": "code",
   "execution_count": 24,
   "metadata": {
    "scrolled": true
   },
   "outputs": [
    {
     "data": {
      "text/html": [
       "<div>\n",
       "<style scoped>\n",
       "    .dataframe tbody tr th:only-of-type {\n",
       "        vertical-align: middle;\n",
       "    }\n",
       "\n",
       "    .dataframe tbody tr th {\n",
       "        vertical-align: top;\n",
       "    }\n",
       "\n",
       "    .dataframe thead th {\n",
       "        text-align: right;\n",
       "    }\n",
       "</style>\n",
       "<table border=\"1\" class=\"dataframe\">\n",
       "  <thead>\n",
       "    <tr style=\"text-align: right;\">\n",
       "      <th></th>\n",
       "      <th>조달구분</th>\n",
       "      <th>입찰공고번호</th>\n",
       "      <th>품명내용</th>\n",
       "      <th>긴급공고여부</th>\n",
       "      <th>추정가격</th>\n",
       "      <th>배정예산</th>\n",
       "      <th>기초금액</th>\n",
       "      <th>예정가격</th>\n",
       "      <th>낙찰자결정방법</th>\n",
       "      <th>낙찰하한율</th>\n",
       "      <th>참가수</th>\n",
       "      <th>합계수량</th>\n",
       "      <th>낙찰자결정여부</th>\n",
       "      <th>낙찰업체투찰률</th>\n",
       "      <th>낙찰업체투찰금액</th>\n",
       "      <th>낙찰자결정적용법규</th>\n",
       "      <th>공동도급협정서접수방식</th>\n",
       "    </tr>\n",
       "  </thead>\n",
       "  <tbody>\n",
       "    <tr>\n",
       "      <th>0</th>\n",
       "      <td>자체조달</td>\n",
       "      <td>20211020431</td>\n",
       "      <td>교육용또는직업용도서[55101509]</td>\n",
       "      <td>N</td>\n",
       "      <td>17389840.00000</td>\n",
       "      <td>17389840.00000</td>\n",
       "      <td>17389840.00000</td>\n",
       "      <td>17491500.00000</td>\n",
       "      <td>제한적최저가(낙찰하한율)</td>\n",
       "      <td>90.00000</td>\n",
       "      <td>9</td>\n",
       "      <td>1336.00000</td>\n",
       "      <td>Y</td>\n",
       "      <td>90.08200</td>\n",
       "      <td>15756760.00000</td>\n",
       "      <td>지방계약법</td>\n",
       "      <td>일반(중앙)</td>\n",
       "    </tr>\n",
       "    <tr>\n",
       "      <th>17</th>\n",
       "      <td>자체조달</td>\n",
       "      <td>20211032984</td>\n",
       "      <td>차양[30151901]</td>\n",
       "      <td>N</td>\n",
       "      <td>47745000.00000</td>\n",
       "      <td>52519500.00000</td>\n",
       "      <td>100000.00000</td>\n",
       "      <td>99200.00000</td>\n",
       "      <td>제한적최저가(낙찰하한율)</td>\n",
       "      <td>88.00000</td>\n",
       "      <td>4</td>\n",
       "      <td>1.00000</td>\n",
       "      <td>Y</td>\n",
       "      <td>88.32600</td>\n",
       "      <td>87620.00000</td>\n",
       "      <td>지방계약법</td>\n",
       "      <td>일반(중앙)</td>\n",
       "    </tr>\n",
       "    <tr>\n",
       "      <th>40</th>\n",
       "      <td>자체조달</td>\n",
       "      <td>20211034432</td>\n",
       "      <td>따로분류되지않고치료를주목적으로하지않는의약품[51320401]</td>\n",
       "      <td>N</td>\n",
       "      <td>26175454.00000</td>\n",
       "      <td>28793000.00000</td>\n",
       "      <td>28793000.00000</td>\n",
       "      <td>29055075.00000</td>\n",
       "      <td>제한적최저가(낙찰하한율)</td>\n",
       "      <td>88.00000</td>\n",
       "      <td>4</td>\n",
       "      <td>1.00000</td>\n",
       "      <td>Y</td>\n",
       "      <td>95.93300</td>\n",
       "      <td>27873600.00000</td>\n",
       "      <td>지방계약법</td>\n",
       "      <td>일반(중앙)</td>\n",
       "    </tr>\n",
       "  </tbody>\n",
       "</table>\n",
       "</div>"
      ],
      "text/plain": [
       "    조달구분       입찰공고번호                               품명내용 긴급공고여부  \\\n",
       "0   자체조달  20211020431               교육용또는직업용도서[55101509]      N   \n",
       "17  자체조달  20211032984                       차양[30151901]      N   \n",
       "40  자체조달  20211034432  따로분류되지않고치료를주목적으로하지않는의약품[51320401]      N   \n",
       "\n",
       "             추정가격           배정예산           기초금액           예정가격        낙찰자결정방법  \\\n",
       "0  17389840.00000 17389840.00000 17389840.00000 17491500.00000  제한적최저가(낙찰하한율)   \n",
       "17 47745000.00000 52519500.00000   100000.00000    99200.00000  제한적최저가(낙찰하한율)   \n",
       "40 26175454.00000 28793000.00000 28793000.00000 29055075.00000  제한적최저가(낙찰하한율)   \n",
       "\n",
       "      낙찰하한율  참가수       합계수량 낙찰자결정여부  낙찰업체투찰률       낙찰업체투찰금액 낙찰자결정적용법규  \\\n",
       "0  90.00000    9 1336.00000       Y 90.08200 15756760.00000     지방계약법   \n",
       "17 88.00000    4    1.00000       Y 88.32600    87620.00000     지방계약법   \n",
       "40 88.00000    4    1.00000       Y 95.93300 27873600.00000     지방계약법   \n",
       "\n",
       "   공동도급협정서접수방식  \n",
       "0       일반(중앙)  \n",
       "17      일반(중앙)  \n",
       "40      일반(중앙)  "
      ]
     },
     "execution_count": 24,
     "metadata": {},
     "output_type": "execute_result"
    }
   ],
   "source": [
    "df = df[df['낙찰하한율'] >= 79]\n",
    "\n",
    "df.head(3)"
   ]
  },
  {
   "cell_type": "markdown",
   "metadata": {},
   "source": [
    "낙찰하한율이 79% 이하인 것은 이상치로 판단하고 79 이상인 것들로만 간추린다."
   ]
  },
  {
   "cell_type": "code",
   "execution_count": 25,
   "metadata": {},
   "outputs": [
    {
     "data": {
      "text/plain": [
       "적격심사낙찰제     96167\n",
       "최저가낙찰제      23287\n",
       "계약이행능력심사      300\n",
       "알수없음           18\n",
       "희망수량경쟁         15\n",
       "Name: 낙찰자결정방법, dtype: int64"
      ]
     },
     "execution_count": 25,
     "metadata": {},
     "output_type": "execute_result"
    }
   ],
   "source": [
    "df.loc[df['낙찰자결정방법'].str.contains('적격심사'), '낙찰자결정방법'] = '적격심사낙찰제'\n",
    "df.loc[df['낙찰자결정방법'].str.contains('최저가'), '낙찰자결정방법'] = '최저가낙찰제'\n",
    "df.loc[df['낙찰자결정방법'].str.contains('계약이행능력심사'), '낙찰자결정방법'] = '계약이행능력심사'\n",
    "df.loc[df['낙찰자결정방법'].str.contains('희망수량경쟁'), '낙찰자결정방법'] = '희망수량경쟁'\n",
    "\n",
    "df.낙찰자결정방법.value_counts()"
   ]
  },
  {
   "cell_type": "markdown",
   "metadata": {},
   "source": [
    "낙찰자 결정방법의 명칭을 통일한다."
   ]
  },
  {
   "cell_type": "code",
   "execution_count": 26,
   "metadata": {
    "scrolled": true
   },
   "outputs": [
    {
     "name": "stdout",
     "output_type": "stream",
     "text": [
      "<class 'pandas.core.frame.DataFrame'>\n",
      "Int64Index: 119787 entries, 0 to 303593\n",
      "Data columns (total 17 columns):\n",
      " #   Column       Non-Null Count   Dtype  \n",
      "---  ------       --------------   -----  \n",
      " 0   조달구분         119787 non-null  object \n",
      " 1   입찰공고번호       119787 non-null  int64  \n",
      " 2   품명내용         119787 non-null  object \n",
      " 3   긴급공고여부       119787 non-null  object \n",
      " 4   추정가격         119787 non-null  float64\n",
      " 5   배정예산         119787 non-null  float64\n",
      " 6   기초금액         119787 non-null  float64\n",
      " 7   예정가격         119787 non-null  float64\n",
      " 8   낙찰자결정방법      119787 non-null  object \n",
      " 9   낙찰하한율        119787 non-null  float64\n",
      " 10  참가수          119787 non-null  int64  \n",
      " 11  합계수량         119787 non-null  float64\n",
      " 12  낙찰자결정여부      119787 non-null  object \n",
      " 13  낙찰업체투찰률      119787 non-null  float64\n",
      " 14  낙찰업체투찰금액     119787 non-null  float64\n",
      " 15  낙찰자결정적용법규    119787 non-null  object \n",
      " 16  공동도급협정서접수방식  119787 non-null  object \n",
      "dtypes: float64(8), int64(2), object(7)\n",
      "memory usage: 16.5+ MB\n"
     ]
    }
   ],
   "source": [
    "df.info()"
   ]
  },
  {
   "cell_type": "markdown",
   "metadata": {},
   "source": [
    "data의 전처리는 진행되었으므로, 필요한 변수를 제외하고 전부 삭제한다."
   ]
  },
  {
   "cell_type": "code",
   "execution_count": 27,
   "metadata": {},
   "outputs": [
    {
     "data": {
      "text/html": [
       "<div>\n",
       "<style scoped>\n",
       "    .dataframe tbody tr th:only-of-type {\n",
       "        vertical-align: middle;\n",
       "    }\n",
       "\n",
       "    .dataframe tbody tr th {\n",
       "        vertical-align: top;\n",
       "    }\n",
       "\n",
       "    .dataframe thead th {\n",
       "        text-align: right;\n",
       "    }\n",
       "</style>\n",
       "<table border=\"1\" class=\"dataframe\">\n",
       "  <thead>\n",
       "    <tr style=\"text-align: right;\">\n",
       "      <th></th>\n",
       "      <th>낙찰자결정방법</th>\n",
       "      <th>참가수</th>\n",
       "      <th>합계수량</th>\n",
       "      <th>기초금액</th>\n",
       "      <th>배정예산</th>\n",
       "      <th>낙찰업체투찰금액</th>\n",
       "    </tr>\n",
       "  </thead>\n",
       "  <tbody>\n",
       "    <tr>\n",
       "      <th>0</th>\n",
       "      <td>최저가낙찰제</td>\n",
       "      <td>9</td>\n",
       "      <td>1336.00000</td>\n",
       "      <td>17389840.00000</td>\n",
       "      <td>17389840.00000</td>\n",
       "      <td>15756760.00000</td>\n",
       "    </tr>\n",
       "    <tr>\n",
       "      <th>17</th>\n",
       "      <td>최저가낙찰제</td>\n",
       "      <td>4</td>\n",
       "      <td>1.00000</td>\n",
       "      <td>100000.00000</td>\n",
       "      <td>52519500.00000</td>\n",
       "      <td>87620.00000</td>\n",
       "    </tr>\n",
       "    <tr>\n",
       "      <th>40</th>\n",
       "      <td>최저가낙찰제</td>\n",
       "      <td>4</td>\n",
       "      <td>1.00000</td>\n",
       "      <td>28793000.00000</td>\n",
       "      <td>28793000.00000</td>\n",
       "      <td>27873600.00000</td>\n",
       "    </tr>\n",
       "  </tbody>\n",
       "</table>\n",
       "</div>"
      ],
      "text/plain": [
       "   낙찰자결정방법  참가수       합계수량           기초금액           배정예산       낙찰업체투찰금액\n",
       "0   최저가낙찰제    9 1336.00000 17389840.00000 17389840.00000 15756760.00000\n",
       "17  최저가낙찰제    4    1.00000   100000.00000 52519500.00000    87620.00000\n",
       "40  최저가낙찰제    4    1.00000 28793000.00000 28793000.00000 27873600.00000"
      ]
     },
     "execution_count": 27,
     "metadata": {},
     "output_type": "execute_result"
    }
   ],
   "source": [
    "df = df[['낙찰자결정방법', '참가수', '합계수량', '기초금액', '배정예산', '낙찰업체투찰금액']]\n",
    "\n",
    "df.head(3)"
   ]
  },
  {
   "cell_type": "markdown",
   "metadata": {},
   "source": [
    "전처리용 column을 제외하고, 실제 모델링에 필요한 변수들만 간추린다."
   ]
  },
  {
   "cell_type": "code",
   "execution_count": 28,
   "metadata": {},
   "outputs": [
    {
     "data": {
      "text/html": [
       "<div>\n",
       "<style scoped>\n",
       "    .dataframe tbody tr th:only-of-type {\n",
       "        vertical-align: middle;\n",
       "    }\n",
       "\n",
       "    .dataframe tbody tr th {\n",
       "        vertical-align: top;\n",
       "    }\n",
       "\n",
       "    .dataframe thead th {\n",
       "        text-align: right;\n",
       "    }\n",
       "</style>\n",
       "<table border=\"1\" class=\"dataframe\">\n",
       "  <thead>\n",
       "    <tr style=\"text-align: right;\">\n",
       "      <th></th>\n",
       "      <th>낙찰자결정방법</th>\n",
       "      <th>참가수</th>\n",
       "      <th>합계수량</th>\n",
       "      <th>기초금액</th>\n",
       "      <th>배정예산</th>\n",
       "      <th>낙찰업체투찰금액</th>\n",
       "      <th>개당기초금액</th>\n",
       "      <th>개당배정예산</th>\n",
       "      <th>개당낙찰업체투찰금액</th>\n",
       "    </tr>\n",
       "  </thead>\n",
       "  <tbody>\n",
       "    <tr>\n",
       "      <th>0</th>\n",
       "      <td>최저가낙찰제</td>\n",
       "      <td>9</td>\n",
       "      <td>1336.00000</td>\n",
       "      <td>17389840.00000</td>\n",
       "      <td>17389840.00000</td>\n",
       "      <td>15756760.00000</td>\n",
       "      <td>13016.34731</td>\n",
       "      <td>13016.34731</td>\n",
       "      <td>11793.98204</td>\n",
       "    </tr>\n",
       "    <tr>\n",
       "      <th>17</th>\n",
       "      <td>최저가낙찰제</td>\n",
       "      <td>4</td>\n",
       "      <td>1.00000</td>\n",
       "      <td>100000.00000</td>\n",
       "      <td>52519500.00000</td>\n",
       "      <td>87620.00000</td>\n",
       "      <td>100000.00000</td>\n",
       "      <td>52519500.00000</td>\n",
       "      <td>87620.00000</td>\n",
       "    </tr>\n",
       "    <tr>\n",
       "      <th>40</th>\n",
       "      <td>최저가낙찰제</td>\n",
       "      <td>4</td>\n",
       "      <td>1.00000</td>\n",
       "      <td>28793000.00000</td>\n",
       "      <td>28793000.00000</td>\n",
       "      <td>27873600.00000</td>\n",
       "      <td>28793000.00000</td>\n",
       "      <td>28793000.00000</td>\n",
       "      <td>27873600.00000</td>\n",
       "    </tr>\n",
       "  </tbody>\n",
       "</table>\n",
       "</div>"
      ],
      "text/plain": [
       "   낙찰자결정방법  참가수       합계수량           기초금액           배정예산       낙찰업체투찰금액  \\\n",
       "0   최저가낙찰제    9 1336.00000 17389840.00000 17389840.00000 15756760.00000   \n",
       "17  최저가낙찰제    4    1.00000   100000.00000 52519500.00000    87620.00000   \n",
       "40  최저가낙찰제    4    1.00000 28793000.00000 28793000.00000 27873600.00000   \n",
       "\n",
       "           개당기초금액         개당배정예산     개당낙찰업체투찰금액  \n",
       "0     13016.34731    13016.34731    11793.98204  \n",
       "17   100000.00000 52519500.00000    87620.00000  \n",
       "40 28793000.00000 28793000.00000 27873600.00000  "
      ]
     },
     "execution_count": 28,
     "metadata": {},
     "output_type": "execute_result"
    }
   ],
   "source": [
    "df['개당기초금액'] = df['기초금액'] / df['합계수량']\n",
    "df['개당배정예산'] = df['배정예산'] / df['합계수량']\n",
    "df['개당낙찰업체투찰금액'] = df['낙찰업체투찰금액'] / df['합계수량']\n",
    "\n",
    "df.head(3)"
   ]
  },
  {
   "cell_type": "markdown",
   "metadata": {},
   "source": [
    "각 data마다 합계수량의 차이가 있으므로, 금액과 관련된 변수를 합계수량으로 나누어 개당 금액을 구한다."
   ]
  },
  {
   "cell_type": "code",
   "execution_count": 29,
   "metadata": {},
   "outputs": [
    {
     "data": {
      "text/html": [
       "<div>\n",
       "<style scoped>\n",
       "    .dataframe tbody tr th:only-of-type {\n",
       "        vertical-align: middle;\n",
       "    }\n",
       "\n",
       "    .dataframe tbody tr th {\n",
       "        vertical-align: top;\n",
       "    }\n",
       "\n",
       "    .dataframe thead th {\n",
       "        text-align: right;\n",
       "    }\n",
       "</style>\n",
       "<table border=\"1\" class=\"dataframe\">\n",
       "  <thead>\n",
       "    <tr style=\"text-align: right;\">\n",
       "      <th></th>\n",
       "      <th>낙찰자결정방법</th>\n",
       "      <th>참가수</th>\n",
       "      <th>합계수량</th>\n",
       "      <th>기초금액</th>\n",
       "      <th>배정예산</th>\n",
       "      <th>낙찰업체투찰금액</th>\n",
       "      <th>개당기초금액</th>\n",
       "      <th>개당배정예산</th>\n",
       "      <th>개당낙찰업체투찰금액</th>\n",
       "      <th>log_개당배정예산</th>\n",
       "      <th>log_개당기초금액</th>\n",
       "      <th>log_개당낙찰업체투찰금액</th>\n",
       "    </tr>\n",
       "  </thead>\n",
       "  <tbody>\n",
       "    <tr>\n",
       "      <th>0</th>\n",
       "      <td>최저가낙찰제</td>\n",
       "      <td>9</td>\n",
       "      <td>1336.00000</td>\n",
       "      <td>17389840.00000</td>\n",
       "      <td>17389840.00000</td>\n",
       "      <td>15756760.00000</td>\n",
       "      <td>13016.34731</td>\n",
       "      <td>13016.34731</td>\n",
       "      <td>11793.98204</td>\n",
       "      <td>9.47404</td>\n",
       "      <td>9.47404</td>\n",
       "      <td>9.37543</td>\n",
       "    </tr>\n",
       "    <tr>\n",
       "      <th>17</th>\n",
       "      <td>최저가낙찰제</td>\n",
       "      <td>4</td>\n",
       "      <td>1.00000</td>\n",
       "      <td>100000.00000</td>\n",
       "      <td>52519500.00000</td>\n",
       "      <td>87620.00000</td>\n",
       "      <td>100000.00000</td>\n",
       "      <td>52519500.00000</td>\n",
       "      <td>87620.00000</td>\n",
       "      <td>17.77670</td>\n",
       "      <td>11.51294</td>\n",
       "      <td>11.38078</td>\n",
       "    </tr>\n",
       "    <tr>\n",
       "      <th>40</th>\n",
       "      <td>최저가낙찰제</td>\n",
       "      <td>4</td>\n",
       "      <td>1.00000</td>\n",
       "      <td>28793000.00000</td>\n",
       "      <td>28793000.00000</td>\n",
       "      <td>27873600.00000</td>\n",
       "      <td>28793000.00000</td>\n",
       "      <td>28793000.00000</td>\n",
       "      <td>27873600.00000</td>\n",
       "      <td>17.17564</td>\n",
       "      <td>17.17564</td>\n",
       "      <td>17.14319</td>\n",
       "    </tr>\n",
       "  </tbody>\n",
       "</table>\n",
       "</div>"
      ],
      "text/plain": [
       "   낙찰자결정방법  참가수       합계수량           기초금액           배정예산       낙찰업체투찰금액  \\\n",
       "0   최저가낙찰제    9 1336.00000 17389840.00000 17389840.00000 15756760.00000   \n",
       "17  최저가낙찰제    4    1.00000   100000.00000 52519500.00000    87620.00000   \n",
       "40  최저가낙찰제    4    1.00000 28793000.00000 28793000.00000 27873600.00000   \n",
       "\n",
       "           개당기초금액         개당배정예산     개당낙찰업체투찰금액  log_개당배정예산  log_개당기초금액  \\\n",
       "0     13016.34731    13016.34731    11793.98204     9.47404     9.47404   \n",
       "17   100000.00000 52519500.00000    87620.00000    17.77670    11.51294   \n",
       "40 28793000.00000 28793000.00000 27873600.00000    17.17564    17.17564   \n",
       "\n",
       "    log_개당낙찰업체투찰금액  \n",
       "0          9.37543  \n",
       "17        11.38078  \n",
       "40        17.14319  "
      ]
     },
     "execution_count": 29,
     "metadata": {},
     "output_type": "execute_result"
    }
   ],
   "source": [
    "df['log_개당배정예산'] = np.log1p(df['개당배정예산'])\n",
    "df['log_개당기초금액'] = np.log1p(df['개당기초금액'])\n",
    "df['log_개당낙찰업체투찰금액'] = np.log1p(df['개당낙찰업체투찰금액'])\n",
    "\n",
    "df.head(3)"
   ]
  },
  {
   "cell_type": "markdown",
   "metadata": {},
   "source": [
    "이상치 제거를 했음에도 편차가 크므로 log변환을 통하여 편차를 줄여준다."
   ]
  },
  {
   "cell_type": "code",
   "execution_count": 30,
   "metadata": {},
   "outputs": [],
   "source": [
    "df_ohe = pd.get_dummies(df)"
   ]
  },
  {
   "cell_type": "markdown",
   "metadata": {},
   "source": [
    "낙찰자 결정방법이 수치형 변수가 아니므로 더미변수로 만들어 모델링해준다."
   ]
  },
  {
   "cell_type": "code",
   "execution_count": 35,
   "metadata": {
    "scrolled": true
   },
   "outputs": [
    {
     "data": {
      "text/html": [
       "<div>\n",
       "<style scoped>\n",
       "    .dataframe tbody tr th:only-of-type {\n",
       "        vertical-align: middle;\n",
       "    }\n",
       "\n",
       "    .dataframe tbody tr th {\n",
       "        vertical-align: top;\n",
       "    }\n",
       "\n",
       "    .dataframe thead th {\n",
       "        text-align: right;\n",
       "    }\n",
       "</style>\n",
       "<table border=\"1\" class=\"dataframe\">\n",
       "  <thead>\n",
       "    <tr style=\"text-align: right;\">\n",
       "      <th></th>\n",
       "      <th>참가수</th>\n",
       "      <th>합계수량</th>\n",
       "      <th>기초금액</th>\n",
       "      <th>배정예산</th>\n",
       "      <th>낙찰업체투찰금액</th>\n",
       "      <th>개당기초금액</th>\n",
       "      <th>개당배정예산</th>\n",
       "      <th>개당낙찰업체투찰금액</th>\n",
       "      <th>log_개당배정예산</th>\n",
       "      <th>log_개당기초금액</th>\n",
       "      <th>log_개당낙찰업체투찰금액</th>\n",
       "      <th>낙찰자결정방법_계약이행능력심사</th>\n",
       "      <th>낙찰자결정방법_알수없음</th>\n",
       "      <th>낙찰자결정방법_적격심사낙찰제</th>\n",
       "      <th>낙찰자결정방법_최저가낙찰제</th>\n",
       "      <th>낙찰자결정방법_희망수량경쟁</th>\n",
       "    </tr>\n",
       "  </thead>\n",
       "  <tbody>\n",
       "    <tr>\n",
       "      <th>0</th>\n",
       "      <td>9</td>\n",
       "      <td>1336.00000</td>\n",
       "      <td>17389840.00000</td>\n",
       "      <td>17389840.00000</td>\n",
       "      <td>15756760.00000</td>\n",
       "      <td>13016.34731</td>\n",
       "      <td>13016.34731</td>\n",
       "      <td>11793.98204</td>\n",
       "      <td>9.47404</td>\n",
       "      <td>9.47404</td>\n",
       "      <td>9.37543</td>\n",
       "      <td>0</td>\n",
       "      <td>0</td>\n",
       "      <td>0</td>\n",
       "      <td>1</td>\n",
       "      <td>0</td>\n",
       "    </tr>\n",
       "    <tr>\n",
       "      <th>17</th>\n",
       "      <td>4</td>\n",
       "      <td>1.00000</td>\n",
       "      <td>100000.00000</td>\n",
       "      <td>52519500.00000</td>\n",
       "      <td>87620.00000</td>\n",
       "      <td>100000.00000</td>\n",
       "      <td>52519500.00000</td>\n",
       "      <td>87620.00000</td>\n",
       "      <td>17.77670</td>\n",
       "      <td>11.51294</td>\n",
       "      <td>11.38078</td>\n",
       "      <td>0</td>\n",
       "      <td>0</td>\n",
       "      <td>0</td>\n",
       "      <td>1</td>\n",
       "      <td>0</td>\n",
       "    </tr>\n",
       "    <tr>\n",
       "      <th>40</th>\n",
       "      <td>4</td>\n",
       "      <td>1.00000</td>\n",
       "      <td>28793000.00000</td>\n",
       "      <td>28793000.00000</td>\n",
       "      <td>27873600.00000</td>\n",
       "      <td>28793000.00000</td>\n",
       "      <td>28793000.00000</td>\n",
       "      <td>27873600.00000</td>\n",
       "      <td>17.17564</td>\n",
       "      <td>17.17564</td>\n",
       "      <td>17.14319</td>\n",
       "      <td>0</td>\n",
       "      <td>0</td>\n",
       "      <td>0</td>\n",
       "      <td>1</td>\n",
       "      <td>0</td>\n",
       "    </tr>\n",
       "    <tr>\n",
       "      <th>44</th>\n",
       "      <td>11</td>\n",
       "      <td>2.00000</td>\n",
       "      <td>28644000.00000</td>\n",
       "      <td>28644000.00000</td>\n",
       "      <td>28050000.00000</td>\n",
       "      <td>14322000.00000</td>\n",
       "      <td>14322000.00000</td>\n",
       "      <td>14025000.00000</td>\n",
       "      <td>16.47731</td>\n",
       "      <td>16.47731</td>\n",
       "      <td>16.45635</td>\n",
       "      <td>0</td>\n",
       "      <td>0</td>\n",
       "      <td>0</td>\n",
       "      <td>1</td>\n",
       "      <td>0</td>\n",
       "    </tr>\n",
       "    <tr>\n",
       "      <th>46</th>\n",
       "      <td>4</td>\n",
       "      <td>12.00000</td>\n",
       "      <td>20120000.00000</td>\n",
       "      <td>20120000.00000</td>\n",
       "      <td>19200000.00000</td>\n",
       "      <td>1676666.66667</td>\n",
       "      <td>1676666.66667</td>\n",
       "      <td>1600000.00000</td>\n",
       "      <td>14.33232</td>\n",
       "      <td>14.33232</td>\n",
       "      <td>14.28551</td>\n",
       "      <td>0</td>\n",
       "      <td>0</td>\n",
       "      <td>0</td>\n",
       "      <td>1</td>\n",
       "      <td>0</td>\n",
       "    </tr>\n",
       "    <tr>\n",
       "      <th>...</th>\n",
       "      <td>...</td>\n",
       "      <td>...</td>\n",
       "      <td>...</td>\n",
       "      <td>...</td>\n",
       "      <td>...</td>\n",
       "      <td>...</td>\n",
       "      <td>...</td>\n",
       "      <td>...</td>\n",
       "      <td>...</td>\n",
       "      <td>...</td>\n",
       "      <td>...</td>\n",
       "      <td>...</td>\n",
       "      <td>...</td>\n",
       "      <td>...</td>\n",
       "      <td>...</td>\n",
       "      <td>...</td>\n",
       "    </tr>\n",
       "    <tr>\n",
       "      <th>303554</th>\n",
       "      <td>9</td>\n",
       "      <td>1.00000</td>\n",
       "      <td>18453809.00000</td>\n",
       "      <td>18453809.00000</td>\n",
       "      <td>16269000.00000</td>\n",
       "      <td>18453809.00000</td>\n",
       "      <td>18453809.00000</td>\n",
       "      <td>16269000.00000</td>\n",
       "      <td>16.73078</td>\n",
       "      <td>16.73078</td>\n",
       "      <td>16.60477</td>\n",
       "      <td>0</td>\n",
       "      <td>0</td>\n",
       "      <td>0</td>\n",
       "      <td>1</td>\n",
       "      <td>0</td>\n",
       "    </tr>\n",
       "    <tr>\n",
       "      <th>303556</th>\n",
       "      <td>6</td>\n",
       "      <td>1.00000</td>\n",
       "      <td>26335980.00000</td>\n",
       "      <td>26335980.00000</td>\n",
       "      <td>23166000.00000</td>\n",
       "      <td>26335980.00000</td>\n",
       "      <td>26335980.00000</td>\n",
       "      <td>23166000.00000</td>\n",
       "      <td>17.08645</td>\n",
       "      <td>17.08645</td>\n",
       "      <td>16.95820</td>\n",
       "      <td>0</td>\n",
       "      <td>0</td>\n",
       "      <td>0</td>\n",
       "      <td>1</td>\n",
       "      <td>0</td>\n",
       "    </tr>\n",
       "    <tr>\n",
       "      <th>303557</th>\n",
       "      <td>5</td>\n",
       "      <td>1.00000</td>\n",
       "      <td>37102600.00000</td>\n",
       "      <td>37102600.00000</td>\n",
       "      <td>33498300.00000</td>\n",
       "      <td>37102600.00000</td>\n",
       "      <td>37102600.00000</td>\n",
       "      <td>33498300.00000</td>\n",
       "      <td>17.42920</td>\n",
       "      <td>17.42920</td>\n",
       "      <td>17.32701</td>\n",
       "      <td>0</td>\n",
       "      <td>0</td>\n",
       "      <td>0</td>\n",
       "      <td>1</td>\n",
       "      <td>0</td>\n",
       "    </tr>\n",
       "    <tr>\n",
       "      <th>303558</th>\n",
       "      <td>142</td>\n",
       "      <td>1.00000</td>\n",
       "      <td>19012000.00000</td>\n",
       "      <td>19400000.00000</td>\n",
       "      <td>16758300.00000</td>\n",
       "      <td>19012000.00000</td>\n",
       "      <td>19400000.00000</td>\n",
       "      <td>16758300.00000</td>\n",
       "      <td>16.78078</td>\n",
       "      <td>16.76058</td>\n",
       "      <td>16.63440</td>\n",
       "      <td>0</td>\n",
       "      <td>0</td>\n",
       "      <td>0</td>\n",
       "      <td>1</td>\n",
       "      <td>0</td>\n",
       "    </tr>\n",
       "    <tr>\n",
       "      <th>303593</th>\n",
       "      <td>15</td>\n",
       "      <td>1.00000</td>\n",
       "      <td>35508000.00000</td>\n",
       "      <td>35508000.00000</td>\n",
       "      <td>31347620.00000</td>\n",
       "      <td>35508000.00000</td>\n",
       "      <td>35508000.00000</td>\n",
       "      <td>31347620.00000</td>\n",
       "      <td>17.38527</td>\n",
       "      <td>17.38527</td>\n",
       "      <td>17.26065</td>\n",
       "      <td>0</td>\n",
       "      <td>0</td>\n",
       "      <td>0</td>\n",
       "      <td>1</td>\n",
       "      <td>0</td>\n",
       "    </tr>\n",
       "  </tbody>\n",
       "</table>\n",
       "<p>119787 rows × 16 columns</p>\n",
       "</div>"
      ],
      "text/plain": [
       "        참가수       합계수량           기초금액           배정예산       낙찰업체투찰금액  \\\n",
       "0         9 1336.00000 17389840.00000 17389840.00000 15756760.00000   \n",
       "17        4    1.00000   100000.00000 52519500.00000    87620.00000   \n",
       "40        4    1.00000 28793000.00000 28793000.00000 27873600.00000   \n",
       "44       11    2.00000 28644000.00000 28644000.00000 28050000.00000   \n",
       "46        4   12.00000 20120000.00000 20120000.00000 19200000.00000   \n",
       "...     ...        ...            ...            ...            ...   \n",
       "303554    9    1.00000 18453809.00000 18453809.00000 16269000.00000   \n",
       "303556    6    1.00000 26335980.00000 26335980.00000 23166000.00000   \n",
       "303557    5    1.00000 37102600.00000 37102600.00000 33498300.00000   \n",
       "303558  142    1.00000 19012000.00000 19400000.00000 16758300.00000   \n",
       "303593   15    1.00000 35508000.00000 35508000.00000 31347620.00000   \n",
       "\n",
       "               개당기초금액         개당배정예산     개당낙찰업체투찰금액  log_개당배정예산  log_개당기초금액  \\\n",
       "0         13016.34731    13016.34731    11793.98204     9.47404     9.47404   \n",
       "17       100000.00000 52519500.00000    87620.00000    17.77670    11.51294   \n",
       "40     28793000.00000 28793000.00000 27873600.00000    17.17564    17.17564   \n",
       "44     14322000.00000 14322000.00000 14025000.00000    16.47731    16.47731   \n",
       "46      1676666.66667  1676666.66667  1600000.00000    14.33232    14.33232   \n",
       "...               ...            ...            ...         ...         ...   \n",
       "303554 18453809.00000 18453809.00000 16269000.00000    16.73078    16.73078   \n",
       "303556 26335980.00000 26335980.00000 23166000.00000    17.08645    17.08645   \n",
       "303557 37102600.00000 37102600.00000 33498300.00000    17.42920    17.42920   \n",
       "303558 19012000.00000 19400000.00000 16758300.00000    16.78078    16.76058   \n",
       "303593 35508000.00000 35508000.00000 31347620.00000    17.38527    17.38527   \n",
       "\n",
       "        log_개당낙찰업체투찰금액  낙찰자결정방법_계약이행능력심사  낙찰자결정방법_알수없음  낙찰자결정방법_적격심사낙찰제  \\\n",
       "0              9.37543                 0             0                0   \n",
       "17            11.38078                 0             0                0   \n",
       "40            17.14319                 0             0                0   \n",
       "44            16.45635                 0             0                0   \n",
       "46            14.28551                 0             0                0   \n",
       "...                ...               ...           ...              ...   \n",
       "303554        16.60477                 0             0                0   \n",
       "303556        16.95820                 0             0                0   \n",
       "303557        17.32701                 0             0                0   \n",
       "303558        16.63440                 0             0                0   \n",
       "303593        17.26065                 0             0                0   \n",
       "\n",
       "        낙찰자결정방법_최저가낙찰제  낙찰자결정방법_희망수량경쟁  \n",
       "0                    1               0  \n",
       "17                   1               0  \n",
       "40                   1               0  \n",
       "44                   1               0  \n",
       "46                   1               0  \n",
       "...                ...             ...  \n",
       "303554               1               0  \n",
       "303556               1               0  \n",
       "303557               1               0  \n",
       "303558               1               0  \n",
       "303593               1               0  \n",
       "\n",
       "[119787 rows x 16 columns]"
      ]
     },
     "execution_count": 35,
     "metadata": {},
     "output_type": "execute_result"
    }
   ],
   "source": [
    "df_ohe"
   ]
  },
  {
   "cell_type": "code",
   "execution_count": 32,
   "metadata": {},
   "outputs": [],
   "source": [
    "X = df_ohe[['참가수', 'log_개당배정예산', 'log_개당기초금액', '낙찰자결정방법_계약이행능력심사',\n",
    "       '낙찰자결정방법_적격심사낙찰제', '낙찰자결정방법_최저가낙찰제', '낙찰자결정방법_희망수량경쟁', '낙찰자결정방법_알수없음']]\n",
    "y = df_ohe[['log_개당낙찰업체투찰금액']]"
   ]
  },
  {
   "cell_type": "code",
   "execution_count": 33,
   "metadata": {},
   "outputs": [],
   "source": [
    "X_train, X_test, y_train, y_test = train_test_split(X, y, test_size=0.25, random_state=32)"
   ]
  },
  {
   "cell_type": "markdown",
   "metadata": {},
   "source": [
    "test data와 train data를 분리하여 모델에 fit한다."
   ]
  },
  {
   "cell_type": "code",
   "execution_count": 34,
   "metadata": {},
   "outputs": [
    {
     "name": "stdout",
     "output_type": "stream",
     "text": [
      "X_train shape:  (89840, 8)\n",
      "X_test shape:  (29947, 8)\n",
      "y_train shape:  (89840, 1)\n",
      "y_test shape:  (29947, 1)\n"
     ]
    }
   ],
   "source": [
    "print('X_train shape: ', X_train.shape)\n",
    "print('X_test shape: ', X_test.shape)\n",
    "print('y_train shape: ', y_train.shape)\n",
    "print('y_test shape: ', y_test.shape)"
   ]
  },
  {
   "cell_type": "markdown",
   "metadata": {},
   "source": [
    "## LightGBM Model"
   ]
  },
  {
   "cell_type": "code",
   "execution_count": 36,
   "metadata": {},
   "outputs": [],
   "source": [
    "lgbm_model = lgb.LGBMRegressor(boosting_type='gbdt', class_weight=None, colsample_bytree=1.0,\n",
    "              importance_type='split', learning_rate=0.1, max_depth=-1,\n",
    "              min_child_samples=20, min_child_weight=0.001, min_split_gain=0.0,\n",
    "              n_estimators=100, n_jobs=-1, num_leaves=31, objective=None,\n",
    "              random_state=7525, reg_alpha=0.0, reg_lambda=0.0, silent='warn',\n",
    "              subsample=1.0, subsample_for_bin=200000, subsample_freq=0)"
   ]
  },
  {
   "cell_type": "code",
   "execution_count": 45,
   "metadata": {},
   "outputs": [
    {
     "name": "stdout",
     "output_type": "stream",
     "text": [
      "RMSE: 1.119215\n",
      "RMSLE :  0.30885706578156213\n",
      "R2 Score : 0.948997\n",
      "adjusted R2 Score :  0.9489832707135629\n"
     ]
    }
   ],
   "source": [
    "lgbm_model.fit(X_train, y_train)\n",
    "\n",
    "lgbm_preds = lgbm_model.predict(X_test)\n",
    "\n",
    "lgbm_rmse = np.sqrt(mean_squared_error(y_test, lgbm_preds))\n",
    "\n",
    "print('RMSE: %f' % (lgbm_rmse))\n",
    "print('RMSLE : ', (np.sqrt(np.mean(np.square(np.log1p(y_test.iloc[:,0]) - np.log1p(lgbm_preds))))))\n",
    "\n",
    "print('R2 Score : %f' % (r2_score(y_test, lgbm_preds)))\n",
    "print('adjusted R2 Score : ', 1-(1-r2_score(y_test, lgbm_preds)) * (len(y_test)-1) / (len(y_test) - len(X.columns) - 1))"
   ]
  },
  {
   "cell_type": "code",
   "execution_count": 46,
   "metadata": {
    "scrolled": false
   },
   "outputs": [
    {
     "data": {
      "text/html": [
       "<div>\n",
       "<style scoped>\n",
       "    .dataframe tbody tr th:only-of-type {\n",
       "        vertical-align: middle;\n",
       "    }\n",
       "\n",
       "    .dataframe tbody tr th {\n",
       "        vertical-align: top;\n",
       "    }\n",
       "\n",
       "    .dataframe thead th {\n",
       "        text-align: right;\n",
       "    }\n",
       "</style>\n",
       "<table border=\"1\" class=\"dataframe\">\n",
       "  <thead>\n",
       "    <tr style=\"text-align: right;\">\n",
       "      <th></th>\n",
       "      <th>log_개당낙찰업체투찰금액</th>\n",
       "      <th>log_개당낙찰업체투찰금액_lgbm_pre</th>\n",
       "      <th>개당낙찰업체투찰금액</th>\n",
       "      <th>개당낙찰업체투찰금액_lgbm_pre</th>\n",
       "    </tr>\n",
       "  </thead>\n",
       "  <tbody>\n",
       "    <tr>\n",
       "      <th>243356</th>\n",
       "      <td>16.74207</td>\n",
       "      <td>16.77198</td>\n",
       "      <td>18663300.00000</td>\n",
       "      <td>19230021.91245</td>\n",
       "    </tr>\n",
       "    <tr>\n",
       "      <th>199304</th>\n",
       "      <td>2.88848</td>\n",
       "      <td>2.76059</td>\n",
       "      <td>16.96601</td>\n",
       "      <td>14.80913</td>\n",
       "    </tr>\n",
       "    <tr>\n",
       "      <th>193208</th>\n",
       "      <td>3.43420</td>\n",
       "      <td>2.75041</td>\n",
       "      <td>30.00662</td>\n",
       "      <td>14.64908</td>\n",
       "    </tr>\n",
       "    <tr>\n",
       "      <th>187364</th>\n",
       "      <td>1.22002</td>\n",
       "      <td>2.76227</td>\n",
       "      <td>2.38726</td>\n",
       "      <td>14.83568</td>\n",
       "    </tr>\n",
       "    <tr>\n",
       "      <th>270741</th>\n",
       "      <td>17.00845</td>\n",
       "      <td>16.91744</td>\n",
       "      <td>24360000.00000</td>\n",
       "      <td>22240923.35983</td>\n",
       "    </tr>\n",
       "    <tr>\n",
       "      <th>...</th>\n",
       "      <td>...</td>\n",
       "      <td>...</td>\n",
       "      <td>...</td>\n",
       "      <td>...</td>\n",
       "    </tr>\n",
       "    <tr>\n",
       "      <th>179468</th>\n",
       "      <td>2.98603</td>\n",
       "      <td>2.79291</td>\n",
       "      <td>18.80689</td>\n",
       "      <td>15.32846</td>\n",
       "    </tr>\n",
       "    <tr>\n",
       "      <th>207356</th>\n",
       "      <td>5.09520</td>\n",
       "      <td>2.76771</td>\n",
       "      <td>162.23725</td>\n",
       "      <td>14.92211</td>\n",
       "    </tr>\n",
       "    <tr>\n",
       "      <th>158354</th>\n",
       "      <td>4.92559</td>\n",
       "      <td>2.77754</td>\n",
       "      <td>136.77047</td>\n",
       "      <td>15.07940</td>\n",
       "    </tr>\n",
       "    <tr>\n",
       "      <th>165553</th>\n",
       "      <td>3.71477</td>\n",
       "      <td>2.79092</td>\n",
       "      <td>40.04929</td>\n",
       "      <td>15.29596</td>\n",
       "    </tr>\n",
       "    <tr>\n",
       "      <th>157808</th>\n",
       "      <td>0.97121</td>\n",
       "      <td>2.77754</td>\n",
       "      <td>1.64114</td>\n",
       "      <td>15.07940</td>\n",
       "    </tr>\n",
       "  </tbody>\n",
       "</table>\n",
       "<p>29947 rows × 4 columns</p>\n",
       "</div>"
      ],
      "text/plain": [
       "        log_개당낙찰업체투찰금액  log_개당낙찰업체투찰금액_lgbm_pre     개당낙찰업체투찰금액  \\\n",
       "243356        16.74207                 16.77198 18663300.00000   \n",
       "199304         2.88848                  2.76059       16.96601   \n",
       "193208         3.43420                  2.75041       30.00662   \n",
       "187364         1.22002                  2.76227        2.38726   \n",
       "270741        17.00845                 16.91744 24360000.00000   \n",
       "...                ...                      ...            ...   \n",
       "179468         2.98603                  2.79291       18.80689   \n",
       "207356         5.09520                  2.76771      162.23725   \n",
       "158354         4.92559                  2.77754      136.77047   \n",
       "165553         3.71477                  2.79092       40.04929   \n",
       "157808         0.97121                  2.77754        1.64114   \n",
       "\n",
       "        개당낙찰업체투찰금액_lgbm_pre  \n",
       "243356       19230021.91245  \n",
       "199304             14.80913  \n",
       "193208             14.64908  \n",
       "187364             14.83568  \n",
       "270741       22240923.35983  \n",
       "...                     ...  \n",
       "179468             15.32846  \n",
       "207356             14.92211  \n",
       "158354             15.07940  \n",
       "165553             15.29596  \n",
       "157808             15.07940  \n",
       "\n",
       "[29947 rows x 4 columns]"
      ]
     },
     "execution_count": 46,
     "metadata": {},
     "output_type": "execute_result"
    }
   ],
   "source": [
    "lgbm_check = pd.DataFrame({'log_개당낙찰업체투찰금액' : y_test.iloc[:,0],\n",
    "              'log_개당낙찰업체투찰금액_lgbm_pre' : lgbm_preds})\n",
    "\n",
    "lgbm_check['개당낙찰업체투찰금액'] = np.expm1(lgbm_check['log_개당낙찰업체투찰금액'])\n",
    "lgbm_check['개당낙찰업체투찰금액_lgbm_pre'] = np.expm1(lgbm_check['log_개당낙찰업체투찰금액_lgbm_pre'])\n",
    "\n",
    "lgbm_check"
   ]
  },
  {
   "cell_type": "markdown",
   "metadata": {},
   "source": [
    "test data와 predict한 값을 비교해본다."
   ]
  },
  {
   "cell_type": "markdown",
   "metadata": {},
   "source": [
    "log 변환 처리한 금액을 다시 지수변환으로 데이터를 원상복구해준다."
   ]
  },
  {
   "cell_type": "code",
   "execution_count": 48,
   "metadata": {},
   "outputs": [
    {
     "name": "stdout",
     "output_type": "stream",
     "text": [
      "RMSE: 350264.730123\n",
      "RMSLE :  1.1192152632284698\n"
     ]
    }
   ],
   "source": [
    "print('RMSE: %f' % (np.sqrt(mean_squared_error(lgbm_check['개당낙찰업체투찰금액'], lgbm_check['개당낙찰업체투찰금액_lgbm_pre']))))\n",
    "print('RMSLE : ', (np.sqrt(np.mean(np.square(np.log1p(lgbm_check['개당낙찰업체투찰금액']) - np.log1p(lgbm_check['개당낙찰업체투찰금액_lgbm_pre']))))))"
   ]
  },
  {
   "cell_type": "markdown",
   "metadata": {},
   "source": [
    "## XGBoost"
   ]
  },
  {
   "cell_type": "code",
   "execution_count": 51,
   "metadata": {},
   "outputs": [],
   "source": [
    "xgb_model = XGBRegressor(base_score=0.5, booster='gbtree', colsample_bylevel=1,\n",
    "             colsample_bynode=1, colsample_bytree=1, enable_categorical=False,\n",
    "             gamma=0, gpu_id=-1, importance_type=None,\n",
    "             interaction_constraints='', learning_rate=0.300000012,\n",
    "             max_delta_step=0, max_depth=6, min_child_weight=1, \n",
    "             monotone_constraints='()', n_estimators=100, n_jobs=-1,\n",
    "             num_parallel_tree=1, objective='reg:squarederror',\n",
    "             predictor='auto', random_state=7525, reg_alpha=0, reg_lambda=1,\n",
    "             scale_pos_weight=1, subsample=1, tree_method='auto',\n",
    "             validate_parameters=1, verbosity=0)"
   ]
  },
  {
   "cell_type": "code",
   "execution_count": 52,
   "metadata": {},
   "outputs": [
    {
     "name": "stdout",
     "output_type": "stream",
     "text": [
      "RMSE: 1.122104\n",
      "RMSLE :  0.30941365922540315\n",
      "R2 Score : 0.948733\n",
      "adjusted R2 Score :  0.9487195613994837\n"
     ]
    }
   ],
   "source": [
    "xgb_model.fit(X_train, y_train)\n",
    "xgb_preds = xgb_model.predict(X_test)\n",
    "\n",
    "xgb_rmse = np.sqrt(mean_squared_error(y_test, xgb_preds))\n",
    "\n",
    "print('RMSE: %f' % (xgb_rmse))\n",
    "print('RMSLE : ', (np.sqrt(np.mean(np.square(np.log1p(y_test.iloc[:,0]) - np.log1p(xgb_preds))))))\n",
    "\n",
    "print('R2 Score : %f' % (r2_score(y_test, xgb_preds)))\n",
    "print('adjusted R2 Score : ', 1-(1-r2_score(y_test, xgb_preds)) * (len(y_test)-1) / (len(y_test) - len(X.columns) - 1))"
   ]
  },
  {
   "cell_type": "code",
   "execution_count": 53,
   "metadata": {},
   "outputs": [
    {
     "data": {
      "text/html": [
       "<div>\n",
       "<style scoped>\n",
       "    .dataframe tbody tr th:only-of-type {\n",
       "        vertical-align: middle;\n",
       "    }\n",
       "\n",
       "    .dataframe tbody tr th {\n",
       "        vertical-align: top;\n",
       "    }\n",
       "\n",
       "    .dataframe thead th {\n",
       "        text-align: right;\n",
       "    }\n",
       "</style>\n",
       "<table border=\"1\" class=\"dataframe\">\n",
       "  <thead>\n",
       "    <tr style=\"text-align: right;\">\n",
       "      <th></th>\n",
       "      <th>log_개당낙찰업체투찰금액</th>\n",
       "      <th>log_개당낙찰업체투찰금액_xgb_pre</th>\n",
       "      <th>개당낙찰업체투찰금액</th>\n",
       "      <th>개당낙찰업체투찰금액_xgb_pre</th>\n",
       "    </tr>\n",
       "  </thead>\n",
       "  <tbody>\n",
       "    <tr>\n",
       "      <th>243356</th>\n",
       "      <td>16.74207</td>\n",
       "      <td>16.74778</td>\n",
       "      <td>18663300.00000</td>\n",
       "      <td>18770176.00000</td>\n",
       "    </tr>\n",
       "    <tr>\n",
       "      <th>199304</th>\n",
       "      <td>2.88848</td>\n",
       "      <td>2.73916</td>\n",
       "      <td>16.96601</td>\n",
       "      <td>14.47404</td>\n",
       "    </tr>\n",
       "    <tr>\n",
       "      <th>193208</th>\n",
       "      <td>3.43420</td>\n",
       "      <td>2.74812</td>\n",
       "      <td>30.00662</td>\n",
       "      <td>14.61329</td>\n",
       "    </tr>\n",
       "    <tr>\n",
       "      <th>187364</th>\n",
       "      <td>1.22002</td>\n",
       "      <td>2.77183</td>\n",
       "      <td>2.38726</td>\n",
       "      <td>14.98784</td>\n",
       "    </tr>\n",
       "    <tr>\n",
       "      <th>270741</th>\n",
       "      <td>17.00845</td>\n",
       "      <td>16.94390</td>\n",
       "      <td>24360000.00000</td>\n",
       "      <td>22837148.00000</td>\n",
       "    </tr>\n",
       "    <tr>\n",
       "      <th>...</th>\n",
       "      <td>...</td>\n",
       "      <td>...</td>\n",
       "      <td>...</td>\n",
       "      <td>...</td>\n",
       "    </tr>\n",
       "    <tr>\n",
       "      <th>179468</th>\n",
       "      <td>2.98603</td>\n",
       "      <td>2.81708</td>\n",
       "      <td>18.80689</td>\n",
       "      <td>15.72800</td>\n",
       "    </tr>\n",
       "    <tr>\n",
       "      <th>207356</th>\n",
       "      <td>5.09520</td>\n",
       "      <td>2.75342</td>\n",
       "      <td>162.23725</td>\n",
       "      <td>14.69620</td>\n",
       "    </tr>\n",
       "    <tr>\n",
       "      <th>158354</th>\n",
       "      <td>4.92559</td>\n",
       "      <td>2.77315</td>\n",
       "      <td>136.77047</td>\n",
       "      <td>15.00899</td>\n",
       "    </tr>\n",
       "    <tr>\n",
       "      <th>165553</th>\n",
       "      <td>3.71477</td>\n",
       "      <td>2.79064</td>\n",
       "      <td>40.04929</td>\n",
       "      <td>15.29141</td>\n",
       "    </tr>\n",
       "    <tr>\n",
       "      <th>157808</th>\n",
       "      <td>0.97121</td>\n",
       "      <td>2.77315</td>\n",
       "      <td>1.64114</td>\n",
       "      <td>15.00899</td>\n",
       "    </tr>\n",
       "  </tbody>\n",
       "</table>\n",
       "<p>29947 rows × 4 columns</p>\n",
       "</div>"
      ],
      "text/plain": [
       "        log_개당낙찰업체투찰금액  log_개당낙찰업체투찰금액_xgb_pre     개당낙찰업체투찰금액  \\\n",
       "243356        16.74207                16.74778 18663300.00000   \n",
       "199304         2.88848                 2.73916       16.96601   \n",
       "193208         3.43420                 2.74812       30.00662   \n",
       "187364         1.22002                 2.77183        2.38726   \n",
       "270741        17.00845                16.94390 24360000.00000   \n",
       "...                ...                     ...            ...   \n",
       "179468         2.98603                 2.81708       18.80689   \n",
       "207356         5.09520                 2.75342      162.23725   \n",
       "158354         4.92559                 2.77315      136.77047   \n",
       "165553         3.71477                 2.79064       40.04929   \n",
       "157808         0.97121                 2.77315        1.64114   \n",
       "\n",
       "        개당낙찰업체투찰금액_xgb_pre  \n",
       "243356      18770176.00000  \n",
       "199304            14.47404  \n",
       "193208            14.61329  \n",
       "187364            14.98784  \n",
       "270741      22837148.00000  \n",
       "...                    ...  \n",
       "179468            15.72800  \n",
       "207356            14.69620  \n",
       "158354            15.00899  \n",
       "165553            15.29141  \n",
       "157808            15.00899  \n",
       "\n",
       "[29947 rows x 4 columns]"
      ]
     },
     "execution_count": 53,
     "metadata": {},
     "output_type": "execute_result"
    }
   ],
   "source": [
    "xgb_check = pd.DataFrame({'log_개당낙찰업체투찰금액' : y_test.iloc[:,0],\n",
    "              'log_개당낙찰업체투찰금액_xgb_pre' : xgb_preds})\n",
    "\n",
    "xgb_check['개당낙찰업체투찰금액'] = np.expm1(xgb_check['log_개당낙찰업체투찰금액'])\n",
    "xgb_check['개당낙찰업체투찰금액_xgb_pre'] = np.expm1(xgb_check['log_개당낙찰업체투찰금액_xgb_pre'])\n",
    "\n",
    "xgb_check"
   ]
  },
  {
   "cell_type": "code",
   "execution_count": 54,
   "metadata": {},
   "outputs": [
    {
     "name": "stdout",
     "output_type": "stream",
     "text": [
      "RMSE: 304234.460439\n",
      "RMSLE :  1.1221041887467142\n"
     ]
    }
   ],
   "source": [
    "print('RMSE: %f' % (np.sqrt(mean_squared_error(xgb_check['개당낙찰업체투찰금액'], xgb_check['개당낙찰업체투찰금액_xgb_pre']))))\n",
    "print('RMSLE : ', (np.sqrt(np.mean(np.square(np.log1p(xgb_check['개당낙찰업체투찰금액']) - np.log1p(xgb_check['개당낙찰업체투찰금액_xgb_pre']))))))"
   ]
  },
  {
   "cell_type": "markdown",
   "metadata": {},
   "source": [
    "## RandomForest"
   ]
  },
  {
   "cell_type": "code",
   "execution_count": 55,
   "metadata": {},
   "outputs": [],
   "source": [
    "rf_model = RandomForestRegressor(bootstrap=True, ccp_alpha=0.0, criterion='mse',\n",
    "                      max_depth=None, max_features='auto', max_leaf_nodes=None,\n",
    "                      max_samples=None, min_impurity_decrease=0.0,\n",
    "                      min_impurity_split=None, min_samples_leaf=1,\n",
    "                      min_samples_split=2, min_weight_fraction_leaf=0.0,\n",
    "                      n_estimators=100, n_jobs=-1, oob_score=False,\n",
    "                      random_state=7525, verbose=0, warm_start=False)"
   ]
  },
  {
   "cell_type": "code",
   "execution_count": 56,
   "metadata": {},
   "outputs": [
    {
     "name": "stderr",
     "output_type": "stream",
     "text": [
      "<ipython-input-56-6e047039d26d>:1: DataConversionWarning: A column-vector y was passed when a 1d array was expected. Please change the shape of y to (n_samples,), for example using ravel().\n",
      "  rf_model.fit(X_train, y_train)\n"
     ]
    },
    {
     "name": "stdout",
     "output_type": "stream",
     "text": [
      "RMSE: 1.126223\n",
      "RMSLE :  0.30998393284602344\n",
      "R2 Score : 0.948356\n",
      "adjusted R2 Score :  0.9483424223301109\n"
     ]
    }
   ],
   "source": [
    "rf_model.fit(X_train, y_train)\n",
    "\n",
    "rf_preds = rf_model.predict(X_test)\n",
    "\n",
    "rf_rmse = np.sqrt(mean_squared_error(y_test, rf_preds))\n",
    "\n",
    "print('RMSE: %f' % (rf_rmse))\n",
    "print('RMSLE : ', (np.sqrt(np.mean(np.square(np.log1p(y_test.iloc[:,0]) - np.log1p(rf_preds))))))\n",
    "\n",
    "print('R2 Score : %f' % (r2_score(y_test, rf_preds)))\n",
    "print('adjusted R2 Score : ', 1-(1-r2_score(y_test, rf_preds)) * (len(y_test)-1) / (len(y_test) - len(X.columns) - 1))"
   ]
  },
  {
   "cell_type": "code",
   "execution_count": 57,
   "metadata": {},
   "outputs": [
    {
     "data": {
      "text/html": [
       "<div>\n",
       "<style scoped>\n",
       "    .dataframe tbody tr th:only-of-type {\n",
       "        vertical-align: middle;\n",
       "    }\n",
       "\n",
       "    .dataframe tbody tr th {\n",
       "        vertical-align: top;\n",
       "    }\n",
       "\n",
       "    .dataframe thead th {\n",
       "        text-align: right;\n",
       "    }\n",
       "</style>\n",
       "<table border=\"1\" class=\"dataframe\">\n",
       "  <thead>\n",
       "    <tr style=\"text-align: right;\">\n",
       "      <th></th>\n",
       "      <th>log_개당낙찰업체투찰금액</th>\n",
       "      <th>log_개당낙찰업체투찰금액_rf_pre</th>\n",
       "      <th>개당낙찰업체투찰금액</th>\n",
       "      <th>개당낙찰업체투찰금액_rf_pre</th>\n",
       "    </tr>\n",
       "  </thead>\n",
       "  <tbody>\n",
       "    <tr>\n",
       "      <th>243356</th>\n",
       "      <td>16.74207</td>\n",
       "      <td>16.75445</td>\n",
       "      <td>18663300.00000</td>\n",
       "      <td>18895807.61862</td>\n",
       "    </tr>\n",
       "    <tr>\n",
       "      <th>199304</th>\n",
       "      <td>2.88848</td>\n",
       "      <td>2.72785</td>\n",
       "      <td>16.96601</td>\n",
       "      <td>14.30001</td>\n",
       "    </tr>\n",
       "    <tr>\n",
       "      <th>193208</th>\n",
       "      <td>3.43420</td>\n",
       "      <td>2.73311</td>\n",
       "      <td>30.00662</td>\n",
       "      <td>14.38071</td>\n",
       "    </tr>\n",
       "    <tr>\n",
       "      <th>187364</th>\n",
       "      <td>1.22002</td>\n",
       "      <td>2.77110</td>\n",
       "      <td>2.38726</td>\n",
       "      <td>14.97620</td>\n",
       "    </tr>\n",
       "    <tr>\n",
       "      <th>270741</th>\n",
       "      <td>17.00845</td>\n",
       "      <td>16.95260</td>\n",
       "      <td>24360000.00000</td>\n",
       "      <td>23036606.54291</td>\n",
       "    </tr>\n",
       "    <tr>\n",
       "      <th>...</th>\n",
       "      <td>...</td>\n",
       "      <td>...</td>\n",
       "      <td>...</td>\n",
       "      <td>...</td>\n",
       "    </tr>\n",
       "    <tr>\n",
       "      <th>179468</th>\n",
       "      <td>2.98603</td>\n",
       "      <td>2.83442</td>\n",
       "      <td>18.80689</td>\n",
       "      <td>16.02061</td>\n",
       "    </tr>\n",
       "    <tr>\n",
       "      <th>207356</th>\n",
       "      <td>5.09520</td>\n",
       "      <td>2.74011</td>\n",
       "      <td>162.23725</td>\n",
       "      <td>14.48871</td>\n",
       "    </tr>\n",
       "    <tr>\n",
       "      <th>158354</th>\n",
       "      <td>4.92559</td>\n",
       "      <td>2.77322</td>\n",
       "      <td>136.77047</td>\n",
       "      <td>15.01012</td>\n",
       "    </tr>\n",
       "    <tr>\n",
       "      <th>165553</th>\n",
       "      <td>3.71477</td>\n",
       "      <td>2.76980</td>\n",
       "      <td>40.04929</td>\n",
       "      <td>14.95549</td>\n",
       "    </tr>\n",
       "    <tr>\n",
       "      <th>157808</th>\n",
       "      <td>0.97121</td>\n",
       "      <td>2.77322</td>\n",
       "      <td>1.64114</td>\n",
       "      <td>15.01012</td>\n",
       "    </tr>\n",
       "  </tbody>\n",
       "</table>\n",
       "<p>29947 rows × 4 columns</p>\n",
       "</div>"
      ],
      "text/plain": [
       "        log_개당낙찰업체투찰금액  log_개당낙찰업체투찰금액_rf_pre     개당낙찰업체투찰금액  \\\n",
       "243356        16.74207               16.75445 18663300.00000   \n",
       "199304         2.88848                2.72785       16.96601   \n",
       "193208         3.43420                2.73311       30.00662   \n",
       "187364         1.22002                2.77110        2.38726   \n",
       "270741        17.00845               16.95260 24360000.00000   \n",
       "...                ...                    ...            ...   \n",
       "179468         2.98603                2.83442       18.80689   \n",
       "207356         5.09520                2.74011      162.23725   \n",
       "158354         4.92559                2.77322      136.77047   \n",
       "165553         3.71477                2.76980       40.04929   \n",
       "157808         0.97121                2.77322        1.64114   \n",
       "\n",
       "        개당낙찰업체투찰금액_rf_pre  \n",
       "243356     18895807.61862  \n",
       "199304           14.30001  \n",
       "193208           14.38071  \n",
       "187364           14.97620  \n",
       "270741     23036606.54291  \n",
       "...                   ...  \n",
       "179468           16.02061  \n",
       "207356           14.48871  \n",
       "158354           15.01012  \n",
       "165553           14.95549  \n",
       "157808           15.01012  \n",
       "\n",
       "[29947 rows x 4 columns]"
      ]
     },
     "execution_count": 57,
     "metadata": {},
     "output_type": "execute_result"
    }
   ],
   "source": [
    "rf_check = pd.DataFrame({'log_개당낙찰업체투찰금액' : y_test.iloc[:,0],\n",
    "              'log_개당낙찰업체투찰금액_rf_pre' : rf_preds})\n",
    "\n",
    "rf_check['개당낙찰업체투찰금액'] = np.expm1(rf_check['log_개당낙찰업체투찰금액'])\n",
    "rf_check['개당낙찰업체투찰금액_rf_pre'] = np.expm1(rf_check['log_개당낙찰업체투찰금액_rf_pre'])\n",
    "\n",
    "rf_check"
   ]
  },
  {
   "cell_type": "code",
   "execution_count": 58,
   "metadata": {},
   "outputs": [
    {
     "name": "stdout",
     "output_type": "stream",
     "text": [
      "RMSE: 289995.629702\n",
      "RMSLE :  1.1262228557133096\n"
     ]
    }
   ],
   "source": [
    "print('RMSE: %f' % (np.sqrt(mean_squared_error(rf_check['개당낙찰업체투찰금액'], rf_check['개당낙찰업체투찰금액_rf_pre']))))\n",
    "print('RMSLE : ', (np.sqrt(np.mean(np.square(np.log1p(rf_check['개당낙찰업체투찰금액']) - np.log1p(rf_check['개당낙찰업체투찰금액_rf_pre']))))))"
   ]
  },
  {
   "cell_type": "markdown",
   "metadata": {},
   "source": [
    "## final model"
   ]
  },
  {
   "cell_type": "code",
   "execution_count": 59,
   "metadata": {},
   "outputs": [
    {
     "data": {
      "text/html": [
       "<div>\n",
       "<style scoped>\n",
       "    .dataframe tbody tr th:only-of-type {\n",
       "        vertical-align: middle;\n",
       "    }\n",
       "\n",
       "    .dataframe tbody tr th {\n",
       "        vertical-align: top;\n",
       "    }\n",
       "\n",
       "    .dataframe thead th {\n",
       "        text-align: right;\n",
       "    }\n",
       "</style>\n",
       "<table border=\"1\" class=\"dataframe\">\n",
       "  <thead>\n",
       "    <tr style=\"text-align: right;\">\n",
       "      <th></th>\n",
       "      <th>log_개당낙찰업체투찰금액</th>\n",
       "      <th>log_개당낙찰업체투찰금액_pre</th>\n",
       "      <th>개당낙찰업체투찰금액</th>\n",
       "      <th>개당낙찰업체투찰금액_pre</th>\n",
       "    </tr>\n",
       "  </thead>\n",
       "  <tbody>\n",
       "    <tr>\n",
       "      <th>243356</th>\n",
       "      <td>16.74207</td>\n",
       "      <td>16.75807</td>\n",
       "      <td>18663300.00000</td>\n",
       "      <td>18964345.63642</td>\n",
       "    </tr>\n",
       "    <tr>\n",
       "      <th>199304</th>\n",
       "      <td>2.88848</td>\n",
       "      <td>2.74254</td>\n",
       "      <td>16.96601</td>\n",
       "      <td>14.52630</td>\n",
       "    </tr>\n",
       "    <tr>\n",
       "      <th>193208</th>\n",
       "      <td>3.43420</td>\n",
       "      <td>2.74388</td>\n",
       "      <td>30.00662</td>\n",
       "      <td>14.54723</td>\n",
       "    </tr>\n",
       "    <tr>\n",
       "      <th>187364</th>\n",
       "      <td>1.22002</td>\n",
       "      <td>2.76840</td>\n",
       "      <td>2.38726</td>\n",
       "      <td>14.93309</td>\n",
       "    </tr>\n",
       "    <tr>\n",
       "      <th>270741</th>\n",
       "      <td>17.00845</td>\n",
       "      <td>16.93798</td>\n",
       "      <td>24360000.00000</td>\n",
       "      <td>22702363.23446</td>\n",
       "    </tr>\n",
       "    <tr>\n",
       "      <th>...</th>\n",
       "      <td>...</td>\n",
       "      <td>...</td>\n",
       "      <td>...</td>\n",
       "      <td>...</td>\n",
       "    </tr>\n",
       "    <tr>\n",
       "      <th>179468</th>\n",
       "      <td>2.98603</td>\n",
       "      <td>2.81481</td>\n",
       "      <td>18.80689</td>\n",
       "      <td>15.68994</td>\n",
       "    </tr>\n",
       "    <tr>\n",
       "      <th>207356</th>\n",
       "      <td>5.09520</td>\n",
       "      <td>2.75375</td>\n",
       "      <td>162.23725</td>\n",
       "      <td>14.70134</td>\n",
       "    </tr>\n",
       "    <tr>\n",
       "      <th>158354</th>\n",
       "      <td>4.92559</td>\n",
       "      <td>2.77464</td>\n",
       "      <td>136.77047</td>\n",
       "      <td>15.03280</td>\n",
       "    </tr>\n",
       "    <tr>\n",
       "      <th>165553</th>\n",
       "      <td>3.71477</td>\n",
       "      <td>2.78379</td>\n",
       "      <td>40.04929</td>\n",
       "      <td>15.18016</td>\n",
       "    </tr>\n",
       "    <tr>\n",
       "      <th>157808</th>\n",
       "      <td>0.97121</td>\n",
       "      <td>2.77464</td>\n",
       "      <td>1.64114</td>\n",
       "      <td>15.03280</td>\n",
       "    </tr>\n",
       "  </tbody>\n",
       "</table>\n",
       "<p>29947 rows × 4 columns</p>\n",
       "</div>"
      ],
      "text/plain": [
       "        log_개당낙찰업체투찰금액  log_개당낙찰업체투찰금액_pre     개당낙찰업체투찰금액  개당낙찰업체투찰금액_pre\n",
       "243356        16.74207            16.75807 18663300.00000  18964345.63642\n",
       "199304         2.88848             2.74254       16.96601        14.52630\n",
       "193208         3.43420             2.74388       30.00662        14.54723\n",
       "187364         1.22002             2.76840        2.38726        14.93309\n",
       "270741        17.00845            16.93798 24360000.00000  22702363.23446\n",
       "...                ...                 ...            ...             ...\n",
       "179468         2.98603             2.81481       18.80689        15.68994\n",
       "207356         5.09520             2.75375      162.23725        14.70134\n",
       "158354         4.92559             2.77464      136.77047        15.03280\n",
       "165553         3.71477             2.78379       40.04929        15.18016\n",
       "157808         0.97121             2.77464        1.64114        15.03280\n",
       "\n",
       "[29947 rows x 4 columns]"
      ]
     },
     "execution_count": 59,
     "metadata": {},
     "output_type": "execute_result"
    }
   ],
   "source": [
    "final_check = pd.DataFrame({'log_개당낙찰업체투찰금액' : y_test.iloc[:,0],\n",
    "              'log_개당낙찰업체투찰금액_pre' : ((rf_preds + xgb_preds + lgbm_preds) / 3)})\n",
    "\n",
    "final_check['개당낙찰업체투찰금액'] = np.expm1(final_check['log_개당낙찰업체투찰금액'])\n",
    "final_check['개당낙찰업체투찰금액_pre'] = np.expm1(final_check['log_개당낙찰업체투찰금액_pre'])\n",
    "\n",
    "final_check"
   ]
  },
  {
   "cell_type": "code",
   "execution_count": 61,
   "metadata": {},
   "outputs": [
    {
     "name": "stdout",
     "output_type": "stream",
     "text": [
      "RMSE: 279300.076296\n",
      "RMSLE :  1.121134468793922\n"
     ]
    }
   ],
   "source": [
    "print('RMSE: %f' % (np.sqrt(mean_squared_error(final_check['개당낙찰업체투찰금액'], final_check['개당낙찰업체투찰금액_pre']))))\n",
    "print('RMSLE : ', (np.sqrt(np.mean(np.square(np.log1p(final_check['개당낙찰업체투찰금액']) - np.log1p(final_check['개당낙찰업체투찰금액_pre']))))))"
   ]
  },
  {
   "cell_type": "code",
   "execution_count": 63,
   "metadata": {},
   "outputs": [
    {
     "name": "stdout",
     "output_type": "stream",
     "text": [
      "r2 score: 0.998086\n",
      "adjusted R2 Score :  0.9980858023633737\n"
     ]
    }
   ],
   "source": [
    "print('r2 score: %f' % (r2_score(final_check['개당낙찰업체투찰금액'], final_check['개당낙찰업체투찰금액_pre'])))\n",
    "print('adjusted R2 Score : ', 1-(1-r2_score(final_check['개당낙찰업체투찰금액'], final_check['개당낙찰업체투찰금액_pre'])) * (len(final_check['개당낙찰업체투찰금액'])-1) / (len(final_check['개당낙찰업체투찰금액']) - len(X.columns) - 1))"
   ]
  },
  {
   "cell_type": "code",
   "execution_count": 64,
   "metadata": {},
   "outputs": [
    {
     "data": {
      "text/html": [
       "<div>\n",
       "<style scoped>\n",
       "    .dataframe tbody tr th:only-of-type {\n",
       "        vertical-align: middle;\n",
       "    }\n",
       "\n",
       "    .dataframe tbody tr th {\n",
       "        vertical-align: top;\n",
       "    }\n",
       "\n",
       "    .dataframe thead th {\n",
       "        text-align: right;\n",
       "    }\n",
       "</style>\n",
       "<table border=\"1\" class=\"dataframe\">\n",
       "  <thead>\n",
       "    <tr style=\"text-align: right;\">\n",
       "      <th></th>\n",
       "      <th>log_개당낙찰업체투찰금액</th>\n",
       "      <th>log_개당낙찰업체투찰금액_pre</th>\n",
       "      <th>개당낙찰업체투찰금액</th>\n",
       "      <th>개당낙찰업체투찰금액_pre</th>\n",
       "    </tr>\n",
       "  </thead>\n",
       "  <tbody>\n",
       "    <tr>\n",
       "      <th>243356</th>\n",
       "      <td>16.74207</td>\n",
       "      <td>16.75807</td>\n",
       "      <td>18663300.00000</td>\n",
       "      <td>18964345.63642</td>\n",
       "    </tr>\n",
       "    <tr>\n",
       "      <th>270741</th>\n",
       "      <td>17.00845</td>\n",
       "      <td>16.93798</td>\n",
       "      <td>24360000.00000</td>\n",
       "      <td>22702363.23446</td>\n",
       "    </tr>\n",
       "    <tr>\n",
       "      <th>1937</th>\n",
       "      <td>14.01250</td>\n",
       "      <td>13.85258</td>\n",
       "      <td>1217725.00000</td>\n",
       "      <td>1037767.26778</td>\n",
       "    </tr>\n",
       "    <tr>\n",
       "      <th>289227</th>\n",
       "      <td>15.41115</td>\n",
       "      <td>15.43591</td>\n",
       "      <td>4931460.00000</td>\n",
       "      <td>5055093.78592</td>\n",
       "    </tr>\n",
       "    <tr>\n",
       "      <th>98885</th>\n",
       "      <td>7.87796</td>\n",
       "      <td>7.98319</td>\n",
       "      <td>2637.48126</td>\n",
       "      <td>2930.27254</td>\n",
       "    </tr>\n",
       "    <tr>\n",
       "      <th>...</th>\n",
       "      <td>...</td>\n",
       "      <td>...</td>\n",
       "      <td>...</td>\n",
       "      <td>...</td>\n",
       "    </tr>\n",
       "    <tr>\n",
       "      <th>262817</th>\n",
       "      <td>10.42246</td>\n",
       "      <td>10.44203</td>\n",
       "      <td>33605.00000</td>\n",
       "      <td>34269.13397</td>\n",
       "    </tr>\n",
       "    <tr>\n",
       "      <th>30519</th>\n",
       "      <td>16.50736</td>\n",
       "      <td>16.52803</td>\n",
       "      <td>14758900.00000</td>\n",
       "      <td>15067205.83312</td>\n",
       "    </tr>\n",
       "    <tr>\n",
       "      <th>97865</th>\n",
       "      <td>16.55558</td>\n",
       "      <td>16.47260</td>\n",
       "      <td>15488000.00000</td>\n",
       "      <td>14254698.97494</td>\n",
       "    </tr>\n",
       "    <tr>\n",
       "      <th>263423</th>\n",
       "      <td>17.08361</td>\n",
       "      <td>17.08941</td>\n",
       "      <td>26261500.00000</td>\n",
       "      <td>26414256.92508</td>\n",
       "    </tr>\n",
       "    <tr>\n",
       "      <th>147380</th>\n",
       "      <td>14.67120</td>\n",
       "      <td>14.64513</td>\n",
       "      <td>2353000.00000</td>\n",
       "      <td>2292439.43944</td>\n",
       "    </tr>\n",
       "  </tbody>\n",
       "</table>\n",
       "<p>6432 rows × 4 columns</p>\n",
       "</div>"
      ],
      "text/plain": [
       "        log_개당낙찰업체투찰금액  log_개당낙찰업체투찰금액_pre     개당낙찰업체투찰금액  개당낙찰업체투찰금액_pre\n",
       "243356        16.74207            16.75807 18663300.00000  18964345.63642\n",
       "270741        17.00845            16.93798 24360000.00000  22702363.23446\n",
       "1937          14.01250            13.85258  1217725.00000   1037767.26778\n",
       "289227        15.41115            15.43591  4931460.00000   5055093.78592\n",
       "98885          7.87796             7.98319     2637.48126      2930.27254\n",
       "...                ...                 ...            ...             ...\n",
       "262817        10.42246            10.44203    33605.00000     34269.13397\n",
       "30519         16.50736            16.52803 14758900.00000  15067205.83312\n",
       "97865         16.55558            16.47260 15488000.00000  14254698.97494\n",
       "263423        17.08361            17.08941 26261500.00000  26414256.92508\n",
       "147380        14.67120            14.64513  2353000.00000   2292439.43944\n",
       "\n",
       "[6432 rows x 4 columns]"
      ]
     },
     "execution_count": 64,
     "metadata": {},
     "output_type": "execute_result"
    }
   ],
   "source": [
    "final_check[final_check['개당낙찰업체투찰금액']>=1000]"
   ]
  },
  {
   "cell_type": "code",
   "execution_count": 65,
   "metadata": {
    "scrolled": false
   },
   "outputs": [
    {
     "data": {
      "text/html": [
       "<div>\n",
       "<style scoped>\n",
       "    .dataframe tbody tr th:only-of-type {\n",
       "        vertical-align: middle;\n",
       "    }\n",
       "\n",
       "    .dataframe tbody tr th {\n",
       "        vertical-align: top;\n",
       "    }\n",
       "\n",
       "    .dataframe thead th {\n",
       "        text-align: right;\n",
       "    }\n",
       "</style>\n",
       "<table border=\"1\" class=\"dataframe\">\n",
       "  <thead>\n",
       "    <tr style=\"text-align: right;\">\n",
       "      <th></th>\n",
       "      <th>log_개당낙찰업체투찰금액</th>\n",
       "      <th>log_개당낙찰업체투찰금액_pre</th>\n",
       "      <th>개당낙찰업체투찰금액</th>\n",
       "      <th>개당낙찰업체투찰금액_pre</th>\n",
       "    </tr>\n",
       "  </thead>\n",
       "  <tbody>\n",
       "    <tr>\n",
       "      <th>199304</th>\n",
       "      <td>2.88848</td>\n",
       "      <td>2.74254</td>\n",
       "      <td>16.96601</td>\n",
       "      <td>14.52630</td>\n",
       "    </tr>\n",
       "    <tr>\n",
       "      <th>187364</th>\n",
       "      <td>1.22002</td>\n",
       "      <td>2.76840</td>\n",
       "      <td>2.38726</td>\n",
       "      <td>14.93309</td>\n",
       "    </tr>\n",
       "    <tr>\n",
       "      <th>170490</th>\n",
       "      <td>2.35999</td>\n",
       "      <td>2.78023</td>\n",
       "      <td>9.59082</td>\n",
       "      <td>15.12276</td>\n",
       "    </tr>\n",
       "    <tr>\n",
       "      <th>81420</th>\n",
       "      <td>0.77035</td>\n",
       "      <td>1.45613</td>\n",
       "      <td>1.16053</td>\n",
       "      <td>3.28935</td>\n",
       "    </tr>\n",
       "    <tr>\n",
       "      <th>158063</th>\n",
       "      <td>1.08339</td>\n",
       "      <td>2.77464</td>\n",
       "      <td>1.95468</td>\n",
       "      <td>15.03280</td>\n",
       "    </tr>\n",
       "    <tr>\n",
       "      <th>...</th>\n",
       "      <td>...</td>\n",
       "      <td>...</td>\n",
       "      <td>...</td>\n",
       "      <td>...</td>\n",
       "    </tr>\n",
       "    <tr>\n",
       "      <th>171540</th>\n",
       "      <td>1.69577</td>\n",
       "      <td>2.79883</td>\n",
       "      <td>4.45082</td>\n",
       "      <td>15.42538</td>\n",
       "    </tr>\n",
       "    <tr>\n",
       "      <th>225075</th>\n",
       "      <td>2.20886</td>\n",
       "      <td>2.77790</td>\n",
       "      <td>8.10535</td>\n",
       "      <td>15.08522</td>\n",
       "    </tr>\n",
       "    <tr>\n",
       "      <th>196444</th>\n",
       "      <td>2.89318</td>\n",
       "      <td>2.74063</td>\n",
       "      <td>17.05061</td>\n",
       "      <td>14.49670</td>\n",
       "    </tr>\n",
       "    <tr>\n",
       "      <th>179468</th>\n",
       "      <td>2.98603</td>\n",
       "      <td>2.81481</td>\n",
       "      <td>18.80689</td>\n",
       "      <td>15.68994</td>\n",
       "    </tr>\n",
       "    <tr>\n",
       "      <th>157808</th>\n",
       "      <td>0.97121</td>\n",
       "      <td>2.77464</td>\n",
       "      <td>1.64114</td>\n",
       "      <td>15.03280</td>\n",
       "    </tr>\n",
       "  </tbody>\n",
       "</table>\n",
       "<p>14287 rows × 4 columns</p>\n",
       "</div>"
      ],
      "text/plain": [
       "        log_개당낙찰업체투찰금액  log_개당낙찰업체투찰금액_pre  개당낙찰업체투찰금액  개당낙찰업체투찰금액_pre\n",
       "199304         2.88848             2.74254    16.96601        14.52630\n",
       "187364         1.22002             2.76840     2.38726        14.93309\n",
       "170490         2.35999             2.78023     9.59082        15.12276\n",
       "81420          0.77035             1.45613     1.16053         3.28935\n",
       "158063         1.08339             2.77464     1.95468        15.03280\n",
       "...                ...                 ...         ...             ...\n",
       "171540         1.69577             2.79883     4.45082        15.42538\n",
       "225075         2.20886             2.77790     8.10535        15.08522\n",
       "196444         2.89318             2.74063    17.05061        14.49670\n",
       "179468         2.98603             2.81481    18.80689        15.68994\n",
       "157808         0.97121             2.77464     1.64114        15.03280\n",
       "\n",
       "[14287 rows x 4 columns]"
      ]
     },
     "execution_count": 65,
     "metadata": {},
     "output_type": "execute_result"
    }
   ],
   "source": [
    "final_check[final_check['개당낙찰업체투찰금액']<=20]"
   ]
  },
  {
   "cell_type": "markdown",
   "metadata": {},
   "source": [
    "개당 낙찰액이 두자리수 (10원 대에 가격이 형성된)를 갖는 물품에는 오차가 크게 있었지만, 개당 가격이 높은 물품에 대해서는 꽤 괜찮은 정확도를 보였다."
   ]
  },
  {
   "cell_type": "markdown",
   "metadata": {},
   "source": [
    "개당 가격으로 나타내지 않고 (금액 / 합계수량을 진행하지 않고) 모델링을 진행한다면, 결정계수의 값이 0.7정도로 낮게 나왔고, RMSE값도 더 높게 도출됨을 확인하였다."
   ]
  },
  {
   "cell_type": "markdown",
   "metadata": {},
   "source": [
    "배정예산-기초금액, 기초금액-예정가격, 예정가격-추정가격, 예정가격-배정예산, 등등.. 많은 쌍으로 실험해본 결과, 배정예산과 기초금액에서 오차가 제일 낮고 결정계수가 높게 나왔다."
   ]
  }
 ],
 "metadata": {
  "kernelspec": {
   "display_name": "Python 3",
   "language": "python",
   "name": "python3"
  },
  "language_info": {
   "codemirror_mode": {
    "name": "ipython",
    "version": 3
   },
   "file_extension": ".py",
   "mimetype": "text/x-python",
   "name": "python",
   "nbconvert_exporter": "python",
   "pygments_lexer": "ipython3",
   "version": "3.8.5"
  }
 },
 "nbformat": 4,
 "nbformat_minor": 4
}
